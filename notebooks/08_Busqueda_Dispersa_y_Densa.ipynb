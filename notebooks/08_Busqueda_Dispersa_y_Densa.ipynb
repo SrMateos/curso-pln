{
 "cells": [
  {
   "cell_type": "markdown",
   "metadata": {
    "colab_type": "text",
    "id": "view-in-github"
   },
   "source": [
    "<a href=\"https://colab.research.google.com/github/cbadenes/curso-pln/blob/main/notebooks/08_Busqueda_Dispersa_y_Densa.ipynb\" target=\"_parent\"><img src=\"https://colab.research.google.com/assets/colab-badge.svg\" alt=\"Open In Colab\"/></a>"
   ]
  },
  {
   "cell_type": "markdown",
   "metadata": {
    "id": "Qqyh9huBnuna"
   },
   "source": [
    "# Tutorial: Búsqueda Dispersa y Densa de Información sobre Películas en Español\n",
    "\n",
    "Este notebook implementa un recuperador de un sistema RAG que combina:\n",
    "1. Búsqueda dispersa (sparse retrieval) usando BM25\n",
    "2. Búsqueda densa (dense retrieval) usando embeddings\n",
    "3. Fusión de resultados\n",
    "\n",
    "La búsqueda dispersa es buena para encontrar coincidencias exactas y palabras clave,\n",
    "mientras que la búsqueda densa es mejor para capturar similitud semántica."
   ]
  },
  {
   "cell_type": "markdown",
   "metadata": {
    "id": "NPl7oTuPn7XM"
   },
   "source": [
    "## Importamos las bibliotecas necesarias"
   ]
  },
  {
   "cell_type": "code",
   "execution_count": 1,
   "metadata": {
    "colab": {
     "base_uri": "https://localhost:8080/"
    },
    "id": "vGf2OQwzngoD",
    "outputId": "c1fa0d21-cdd0-40dd-aebb-cf0a2054044a"
   },
   "outputs": [
    {
     "name": "stdout",
     "output_type": "stream",
     "text": [
      "Requirement already satisfied: rank_bm25 in /usr/local/lib/python3.11/dist-packages (0.2.2)\n",
      "Requirement already satisfied: numpy in /usr/local/lib/python3.11/dist-packages (from rank_bm25) (1.26.4)\n"
     ]
    }
   ],
   "source": [
    "!pip install rank_bm25\n",
    "import pandas as pd\n",
    "import numpy as np\n",
    "from rank_bm25 import BM25Okapi\n",
    "from sklearn.feature_extraction.text import TfidfVectorizer\n",
    "from sentence_transformers import SentenceTransformer\n",
    "from sklearn.metrics.pairwise import cosine_similarity\n",
    "import nltk\n",
    "from nltk.tokenize import word_tokenize\n",
    "from nltk.corpus import stopwords\n",
    "from nltk.corpus import stopwords\n",
    "import re\n",
    "from typing import List, Dict, Tuple"
   ]
  },
  {
   "cell_type": "code",
   "execution_count": 2,
   "metadata": {
    "colab": {
     "base_uri": "https://localhost:8080/"
    },
    "id": "uesFYJqWpbe8",
    "outputId": "a9c96517-467e-469d-b3a6-c374027a8e12"
   },
   "outputs": [
    {
     "name": "stdout",
     "output_type": "stream",
     "text": [
      "Descargando recursos de NLTK...\n",
      "Recursos NLTK descargados correctamente.\n"
     ]
    }
   ],
   "source": [
    "print(\"Descargando recursos de NLTK...\")\n",
    "import nltk\n",
    "\n",
    "# Descarga de recursos necesarios\n",
    "nltk.download('punkt', quiet=True)\n",
    "nltk.download('punkt_tab', quiet=True)\n",
    "nltk.download('stopwords', quiet=True)\n",
    "print(\"Recursos NLTK descargados correctamente.\")\n"
   ]
  },
  {
   "cell_type": "markdown",
   "metadata": {
    "id": "fukon6mgoAAa"
   },
   "source": [
    "## 1. Preparación de Datos\n",
    "\n",
    "Creamos un conjunto de datos de ejemplo con películas en español."
   ]
  },
  {
   "cell_type": "code",
   "execution_count": 3,
   "metadata": {
    "id": "JTFvxoUOoLrX"
   },
   "outputs": [],
   "source": [
    "peliculas_data = {\n",
    "    'titulo': [\n",
    "        'El Padrino',\n",
    "        'Pulp Fiction',\n",
    "        'El Señor de los Anillos',\n",
    "        'Matrix',\n",
    "        'Ciudad de Dios',\n",
    "        'El Laberinto del Fauno',\n",
    "        'Amores Perros',\n",
    "        'Todo Sobre Mi Madre',\n",
    "        'Cinema Paradiso',\n",
    "        'El Secreto de Sus Ojos'\n",
    "    ],\n",
    "    'descripcion': [\n",
    "        'La película sigue a la familia Corleone, una de las familias más poderosas de la mafia italiana en Nueva York.',\n",
    "        'Varias historias entrelazadas sobre criminales de Los Ángeles, incluyendo dos hitmen, un boxeador y un gángster.',\n",
    "        'Un hobbit debe destruir un anillo mágico para salvar a la Tierra Media de la oscuridad.',\n",
    "        'Un programador descubre que el mundo en el que vive es una simulación controlada por máquinas.',\n",
    "        'La historia del crecimiento del crimen organizado en los suburbios de Río de Janeiro.',\n",
    "        'En la España de 1944, una niña escapa a un mundo mágico y misterioso para huir de su padrastro y la guerra civil.',\n",
    "        'Tres historias diferentes en Ciudad de México se entrelazan en torno a un accidente de coche.',\n",
    "        'Una madre busca al padre del hijo que acaba de perder para comunicarle la muerte de su hijo.',\n",
    "        'Un famoso director de cine recuerda su infancia y su primer amor por el cine en un pequeño pueblo italiano.',\n",
    "        'Un oficial judicial se obsesiona con un caso de asesinato sin resolver durante 25 años.'\n",
    "    ],\n",
    "    'genero': [\n",
    "        'Drama, Crimen',\n",
    "        'Crimen, Drama',\n",
    "        'Fantasía, Aventura',\n",
    "        'Ciencia Ficción, Acción',\n",
    "        'Crimen, Drama',\n",
    "        'Fantasía, Drama',\n",
    "        'Drama, Thriller',\n",
    "        'Drama',\n",
    "        'Drama, Romance',\n",
    "        'Drama, Misterio'\n",
    "    ],\n",
    "    'año': [1972, 1994, 2001, 1999, 2002, 2006, 2000, 1999, 1988, 2009]\n",
    "}\n",
    "\n",
    "df = pd.DataFrame(peliculas_data)"
   ]
  },
  {
   "cell_type": "markdown",
   "metadata": {
    "id": "h_YbOo59oP8a"
   },
   "source": [
    "## 2. Preprocesamiento de Texto"
   ]
  },
  {
   "cell_type": "code",
   "execution_count": 4,
   "metadata": {
    "id": "tqmL4UL9oSQp"
   },
   "outputs": [],
   "source": [
    "class TextPreprocessor:\n",
    "    \"\"\"\n",
    "    Clase para preprocesar texto en español.\n",
    "    \"\"\"\n",
    "    def __init__(self):\n",
    "        self.stop_words = set(stopwords.words('spanish'))\n",
    "\n",
    "    def preprocess(self, text: str) -> str:\n",
    "        \"\"\"Preprocesa un texto en español.\"\"\"\n",
    "        # Convertir a minúsculas\n",
    "        text = text.lower()\n",
    "\n",
    "        # Tokenizar usando NLTK\n",
    "        tokens = word_tokenize(text)\n",
    "\n",
    "        # Eliminar stopwords usando NLTK\n",
    "        stop_words = set(stopwords.words('spanish'))\n",
    "        tokens = [t for t in tokens if t not in stop_words]\n",
    "\n",
    "        return ' '.join(tokens)"
   ]
  },
  {
   "cell_type": "markdown",
   "metadata": {
    "id": "irFrAbP4oV5X"
   },
   "source": [
    "# 3. Búsqueda Dispersa (Sparse Retrieval)\n"
   ]
  },
  {
   "cell_type": "code",
   "execution_count": 5,
   "metadata": {
    "id": "bY3opUMKoYDa"
   },
   "outputs": [],
   "source": [
    "class SparseRetriever:\n",
    "    \"\"\"\n",
    "    Implementa búsqueda dispersa usando BM25.\n",
    "    \"\"\"\n",
    "    def __init__(self, documentos: List[str]):\n",
    "        self.preprocessor = TextPreprocessor()\n",
    "\n",
    "        # Preprocesar documentos\n",
    "        processed_docs = [self.preprocessor.preprocess(doc) for doc in documentos]\n",
    "\n",
    "        # Tokenizar para BM25\n",
    "        tokenized_docs = [doc.split() for doc in processed_docs]\n",
    "\n",
    "        # Inicializar BM25\n",
    "        self.bm25 = BM25Okapi(tokenized_docs)\n",
    "\n",
    "        # Guardar documentos originales\n",
    "        self.documentos = documentos\n",
    "\n",
    "    def buscar(self, query: str, top_k: int = 3) -> List[Tuple[int, float]]:\n",
    "        \"\"\"Realiza búsqueda BM25.\"\"\"\n",
    "        # Preprocesar query\n",
    "        processed_query = self.preprocessor.preprocess(query)\n",
    "        query_tokens = processed_query.split()\n",
    "\n",
    "        # Obtener scores BM25\n",
    "        scores = self.bm25.get_scores(query_tokens)\n",
    "\n",
    "        # Obtener top_k resultados\n",
    "        top_indices = np.argsort(scores)[::-1][:top_k]\n",
    "\n",
    "        return [(idx, scores[idx]) for idx in top_indices]"
   ]
  },
  {
   "cell_type": "markdown",
   "metadata": {
    "id": "SEEeQTQfoanS"
   },
   "source": [
    "# 4. Búsqueda Densa (Dense Retrieval)\n"
   ]
  },
  {
   "cell_type": "code",
   "execution_count": 6,
   "metadata": {
    "id": "wFRZhqsBoc4N"
   },
   "outputs": [],
   "source": [
    "class DenseRetriever:\n",
    "    \"\"\"\n",
    "    Implementa búsqueda densa usando embeddings.\n",
    "    \"\"\"\n",
    "    def __init__(self, documentos: List[str]):\n",
    "        # Cargar modelo de embeddings multilingüe\n",
    "        self.model = SentenceTransformer('distiluse-base-multilingual-cased-v1')\n",
    "\n",
    "        # Generar y almacenar embeddings\n",
    "        self.embeddings = self.model.encode(documentos, show_progress_bar=True)\n",
    "\n",
    "        # Guardar documentos originales\n",
    "        self.documentos = documentos\n",
    "\n",
    "    def buscar(self, query: str, top_k: int = 3) -> List[Tuple[int, float]]:\n",
    "        \"\"\"Realiza búsqueda por similitud de embeddings.\"\"\"\n",
    "        # Generar embedding de la query\n",
    "        query_embedding = self.model.encode([query])\n",
    "\n",
    "        # Calcular similitud\n",
    "        similarities = cosine_similarity(query_embedding, self.embeddings)[0]\n",
    "\n",
    "        # Obtener top_k resultados\n",
    "        top_indices = np.argsort(similarities)[::-1][:top_k]\n",
    "\n",
    "        return [(idx, similarities[idx]) for idx in top_indices]"
   ]
  },
  {
   "cell_type": "markdown",
   "metadata": {
    "id": "Ax6U3RcIohHO"
   },
   "source": [
    "## 5. Combinación de Técnicas Dispersas y Densas"
   ]
  },
  {
   "cell_type": "code",
   "execution_count": 7,
   "metadata": {
    "id": "eOOkdjx9okT4"
   },
   "outputs": [],
   "source": [
    "class HybridRetriever:\n",
    "    \"\"\"\n",
    "    Combina resultados de búsqueda dispersa y densa.\n",
    "    \"\"\"\n",
    "    def __init__(self, documentos: List[str],\n",
    "                 weight_sparse: float = 0.3,\n",
    "                 weight_dense: float = 0.7):\n",
    "        self.sparse_retriever = SparseRetriever(documentos)\n",
    "        self.dense_retriever = DenseRetriever(documentos)\n",
    "        self.weight_sparse = weight_sparse\n",
    "        self.weight_dense = weight_dense\n",
    "        self.documentos = documentos\n",
    "\n",
    "    def buscar(self, query: str, top_k: int = 3) -> List[Dict]:\n",
    "        \"\"\"\n",
    "        Realiza búsqueda híbrida y fusiona resultados.\n",
    "        \"\"\"\n",
    "        # Obtener resultados de ambos retrievers\n",
    "        sparse_results = self.sparse_retriever.buscar(query, top_k=top_k)\n",
    "        dense_results = self.dense_retriever.buscar(query, top_k=top_k)\n",
    "\n",
    "        # Combinar scores\n",
    "        combined_scores = {}\n",
    "        for idx, score in sparse_results:\n",
    "            combined_scores[idx] = score * self.weight_sparse\n",
    "\n",
    "        for idx, score in dense_results:\n",
    "            if idx in combined_scores:\n",
    "                combined_scores[idx] += score * self.weight_dense\n",
    "            else:\n",
    "                combined_scores[idx] = score * self.weight_dense\n",
    "\n",
    "        # Ordenar resultados finales\n",
    "        sorted_results = sorted(combined_scores.items(),\n",
    "                              key=lambda x: x[1],\n",
    "                              reverse=True)[:top_k]\n",
    "\n",
    "        # Preparar resultados\n",
    "        resultados = []\n",
    "        for idx, score in sorted_results:\n",
    "            resultados.append({\n",
    "                'titulo': df.iloc[idx]['titulo'],\n",
    "                'descripcion': df.iloc[idx]['descripcion'],\n",
    "                'genero': df.iloc[idx]['genero'],\n",
    "                'año': df.iloc[idx]['año'],\n",
    "                'score': score\n",
    "            })\n",
    "\n",
    "        return resultados"
   ]
  },
  {
   "cell_type": "markdown",
   "metadata": {
    "id": "AOFWvNvcos8_"
   },
   "source": [
    "# 7. Casos de Uso\n",
    "\n",
    "Veamos cómo funciona nuestro recuperador de información."
   ]
  },
  {
   "cell_type": "code",
   "execution_count": 8,
   "metadata": {
    "colab": {
     "base_uri": "https://localhost:8080/",
     "height": 671,
     "referenced_widgets": [
      "8255612582b843d38c65199af4824e5f",
      "e6921d3851f54fb6982f181f96bdb9e0",
      "5180cdda2b034a679e1660dafd30867a",
      "66b5992920e740b9a2e7301b1e05a037",
      "43c1d9e24d9c46f0878b9c2ee450bdee",
      "82e817673aef478fb58d03757a0953b4",
      "37a35e8c97614a7190125eb302892ec4",
      "73919c61d5bd465aac87762d1d90eb85",
      "1686ffd1dace4b4d889641768dd530ed",
      "330326930ea440c9a370936d9dce824c",
      "f6caaed567124f4684fa3e2a9f5a6688",
      "7f792b9763e34565a6db9860b51ec438",
      "fc4a2d20bdd840e186e2bfe9ded11538",
      "1d8ff61a7ee0450b852b0dfee7ead0c9",
      "c44c1791220346f495db3b7cd30701c5",
      "9fdeef58f1d448adbfbd5af12f4f3854",
      "d45c496148614ad79dac20d135d7b16d",
      "1c28184a77584d249b093d40630627e5",
      "1200092fab4f4067b83aa55f2f57e9e1",
      "8a01223a5b4a4e8c8d913ca32adfedd5",
      "369ca5d0bc684ca5be36518d4b0201e7",
      "5150340bccf24132a56f7f87be3d1121",
      "e983766278b24f18a42a881eb2bfd81c",
      "213b845184064400bac69a2ddfd4c3f8",
      "092dc8987bb8421aad074cb0cf11a8e0",
      "b8208d83d1fb4ee1aecf41260c8c7cc3",
      "f800666e207344b9b3ae6a88480b96be",
      "3bddd1f5f90b4472a779f358dc1a67f8",
      "49ead47408f94c1486bd1fb12912fb72",
      "7160db0e602b4ce0b62e9e70db94a64b",
      "1d4e76a6787645268293db5adc61f3f9",
      "8eeb84f83be64fcebd67e57cb5be4e52",
      "bf34b254f3054dd1be742f24919ca979",
      "85626bd79267485687b29b0acce0424e",
      "8d0ecc39f80d470dbed1090289cde21d",
      "176415f0f0dc4a67bf861b592b76d713",
      "2f88f70c69084edb97ba87f05452740f",
      "0f34e01abe5b4d6dbe76269f11d9eb91",
      "6cffa6443782422a8b2a2e42f01c537b",
      "d6258e51951c4c4f83a003f7f4cbbea3",
      "ce60dd9fa84b4e0cacdd5fa3d1e84d37",
      "bce27f3dad66442993e7453ca20af72c",
      "9c07cf7f695040c0b7c8056870c8e652",
      "7d8e77426d15473cbc09c6f6c50777ac",
      "7ea8d3e7174643519244d5c800d7663c",
      "ec58b7fbbf6d4cf2974ca08b4965cf4c",
      "cecd5a3ecfcb4d099692818f63747787",
      "e96c848a854e4dfbb3bd956470a04227",
      "043b741841e246389cfc2ba7259cf4c7",
      "05f2525a252243d082cf5d83c0273db3",
      "5ef9c8c3c1bf4f4d985227afc7c8c30b",
      "8c56ecea9c8647778688b8397149f2da",
      "57d93ff208074cb8877dafc96aaec404",
      "50ccd4612467445d9f8a4fb2af031f6f",
      "3586b59870454376bff7a4a8a0e4809a",
      "8c91e6dc43ee4907b47867ec1b7d72b1",
      "22691c82466043edae082a820add3505",
      "881256559290407f8523f2b416cc1f20",
      "7be398715eae4e488712749f301014f3",
      "a51c0489e1234117ab146e47d415f0b8",
      "4825ba9caabd4caab180b5fe96436ba8",
      "7539381550414a44a8ca5250a8c07d69",
      "fdaaa8e4c3144ee094d248983d97d29b",
      "d8296daa78a84d93a36ed1a9e6ec5d0f",
      "e7f2d59c98d24844b2c7384436d55ebb",
      "7586045faac24eeca6be42c9480bfb50",
      "15877058d7194e58bac461c0d2cbd000",
      "bd7231f542f543cb86c2a510d0da8999",
      "83992e99ef374358abcf88194e9ab6a5",
      "7aa624aa9842491d808bfc4b930f0575",
      "9de31f699f894dca9701498ea1450696",
      "c7694160232a4159ae4131fb77fb22f2",
      "bcd7df4fcca7466e8772a1664e242a00",
      "db2f40ebc5ba4355a562f2be74d6c6e1",
      "0dcc35dc6dff44c6b607749f3c8f5a4b",
      "97bd5173ab7d422eacf8530aadb7c8f5",
      "2f88bd61664a4c29a2f1f8389821656e",
      "e212ca7685904752bd362dfd572e043b",
      "042420dd6aaa4e38b98a6dd2945b1c87",
      "e171a546fe864cac8078f7b5d8207295",
      "3c7cbfe3b83748f388ba072c0026b334",
      "ec8386b60a8c455299a3dea541b118f9",
      "d4efc21ee8ef45b589eab4d4f56a5214",
      "c564f9a9659642af8fc155f2b8f19f04",
      "9ecba750e98f42b6aabd8e39bbbf76dc",
      "b4758af9f4e94ac28bb598886568182d",
      "f27679992838455096e9a37075049204",
      "2f03674345834503a4385b9db44609ea",
      "c364c8b230f04525bc2f1771c62e2d09",
      "c8e686fd1368409fb2a1c1ce5bf909fc",
      "913b1878a5a34ca5b94bd48890f4acf1",
      "4becb40ae30042ef9c7e23184c1fa18f",
      "c26efbc0a2c94254a5fba0f70e1e4140",
      "1987f67c967b42f49fb1bfec6cca02a4",
      "fa42a62f32d047c6b4eeb4cca2f2931b",
      "1b411287b4f24ecca6d48526592a4a7c",
      "b76a12c807f0429095f2840d7647a838",
      "17111fc602e246a29735583611cff886",
      "94a0fab858ea4a50b1b987206695cba6",
      "145acf146dd44c11ab7b2dad3c4c95eb",
      "f8aeb20f8e1e40409aed2cda69b3060d",
      "0a2c72b2230b4206b0dae13755d08190",
      "2f1bda279a1e4cbca3cebf2f658f95d2",
      "e1f8a0108d5f47fab9e5f72209eed31b",
      "3575d27203a54557b02473793b8b2aa6",
      "f68e7be2f5e748839e7c1943aaafd5cb",
      "f9977fa0a56c4cca82dffa561642a12a",
      "c248e4bdb9b444d09be2206a60b1850b",
      "70f8d8c30b0743b09f365673cb40d53d",
      "648c8686da824c588b117453a42e3409",
      "6d55864c0f23424b8c91081648549974",
      "0531c6d5780649769ecf26c152adbe49",
      "9975ef98ba694959b560b6a716aff4e1",
      "935aa63147404e2cb75927df9821c9d3",
      "a0f50211f849435f99662513a2bad9d6",
      "a86b24c64aff4a1b975586343ff2a944",
      "c3286a72e8994581b26d54e842518e65",
      "f098a520e4834c6b9fcf04587c04eb98",
      "257910455f584ec3a3a4cbd0fc773060",
      "2b2231062c7f40469741cfc59fb4c9be",
      "8492278628184f638914c9d475f361f7",
      "c3f15338a5814f4a9d5eeb1a133ab06a",
      "9a48611b514c4d68b258d6fe7e4e21ae",
      "266857e3e07e4af09ed1cf6db1a7ab53",
      "e9eb725e3aae455c8bff4264290b6dfc",
      "b38ea60d13944e96950fa7f960ef8015",
      "1d1015c336bf4995931c4d25a3237f7e",
      "3cc9001f77a04f44bb04b815d3f58434",
      "acbaf3b75720498fa1f5cbbc6e820d59",
      "6754f1002c8f4cfc84273c845be8bbdc",
      "746c2be39e3043ff835d79c708dd393c",
      "c73d6709ce2b498fba6ebaf78ba6f17b",
      "726b2b75e5694ff89848be771259321a",
      "52cc4e9dbfab4216bd2ea240e7573d17",
      "12a4013d43ea406f9be691330b3becaa",
      "17d768ae36134b0cb057066f7d6a442e",
      "b1beb93c9b3e4472a8e811472e269c39",
      "e08cde570d1c4977aceff9d521d484b0",
      "77c76cf0f6ef4cb892090836971e9fac",
      "00972a15f38d4c30999bf4fae78c615b",
      "57aeaa86fe0f45e4984ef4421bb5a2e9",
      "c22f960f6aa045c485585e81037d87ae",
      "8c1b9a22ab114c85bef3d586d656eb96",
      "04fa7a7829c840af924ad1de5565d818",
      "a2fb5effd84b4f28aa1da35320cc34b6",
      "3841e8b40b4444488948261222013294",
      "eb08fbc2460f42e8935ffdce5698f92a",
      "bac2e78f08c94f57a592a0293052e521",
      "6fdbb77ba8704245bd8a43dcf56a5229",
      "4d2bdcd8cc59440c81f108d52fb7bb08",
      "5a28b8a265464a68b9866ba9a2b36af0",
      "ba0bfe9410a3450b9b97256570fcf892",
      "de0c5779f5c14d3c8dbb32eb508f4c98",
      "3c68e3932a84400cbb493bac1e00476d",
      "c0bbcd8319774ab1b4b2efcf4238159e",
      "df15dcd13ceb45b78d47b01555fb984b",
      "1ddee91959004909aa929d890a2d089d",
      "6ba6ef97e96148828ebb3e4a17f10c7a",
      "b345bb1ab60f413c95a995e48ef7ac07",
      "5a5669d2bedc4aed869f1f2959b9e2f0",
      "9c5e028527a74f698df766f47f534a7c",
      "31cb4a7888634b1ca8cba2b903c3f06b",
      "9014ebf4a6bf4454aad1a850312b7d78",
      "aa1457fa6d464f83afcaebf40a43aef3",
      "11cceeeec77a41b39f8044ea0b136df1",
      "c387067b304d4b2fb6b862bed81cac1b",
      "8f8ce2f69c724b24ae744410239294e4",
      "33168a36cc4040498ac5a35ef48eb66d",
      "3a0ca24f382d4b51b22c1681eca392b9",
      "7af591c1d85a42408926d70cece30997",
      "e37ed43e637a404dbbc7440ddc8f20dc",
      "b1ef5f79525b442d81f95b8177640560",
      "e7bab505599949ee8ed96d701f691aca",
      "c6973e588e0f4d6195b71a0344a92ecd",
      "badb92e04074498aad28521ee22dfe61",
      "350f75f428ac4fa6a6bd61981dc32e34"
     ]
    },
    "id": "WDFx9Ezrq5Yq",
    "outputId": "e215ddfe-0099-4620-b29d-9c1b1da54f7e"
   },
   "outputs": [
    {
     "name": "stdout",
     "output_type": "stream",
     "text": [
      "Inicializando sistema RAG..\n"
     ]
    },
    {
     "name": "stderr",
     "output_type": "stream",
     "text": [
      "/usr/local/lib/python3.11/dist-packages/huggingface_hub/utils/_auth.py:94: UserWarning: \n",
      "The secret `HF_TOKEN` does not exist in your Colab secrets.\n",
      "To authenticate with the Hugging Face Hub, create a token in your settings tab (https://huggingface.co/settings/tokens), set it as secret in your Google Colab and restart your session.\n",
      "You will be able to reuse this secret in all of your notebooks.\n",
      "Please note that authentication is recommended but still optional to access public models or datasets.\n",
      "  warnings.warn(\n"
     ]
    },
    {
     "data": {
      "application/vnd.jupyter.widget-view+json": {
       "model_id": "8255612582b843d38c65199af4824e5f",
       "version_major": 2,
       "version_minor": 0
      },
      "text/plain": [
       "modules.json:   0%|          | 0.00/341 [00:00<?, ?B/s]"
      ]
     },
     "metadata": {},
     "output_type": "display_data"
    },
    {
     "data": {
      "application/vnd.jupyter.widget-view+json": {
       "model_id": "7f792b9763e34565a6db9860b51ec438",
       "version_major": 2,
       "version_minor": 0
      },
      "text/plain": [
       "config_sentence_transformers.json:   0%|          | 0.00/122 [00:00<?, ?B/s]"
      ]
     },
     "metadata": {},
     "output_type": "display_data"
    },
    {
     "data": {
      "application/vnd.jupyter.widget-view+json": {
       "model_id": "e983766278b24f18a42a881eb2bfd81c",
       "version_major": 2,
       "version_minor": 0
      },
      "text/plain": [
       "README.md:   0%|          | 0.00/2.47k [00:00<?, ?B/s]"
      ]
     },
     "metadata": {},
     "output_type": "display_data"
    },
    {
     "data": {
      "application/vnd.jupyter.widget-view+json": {
       "model_id": "85626bd79267485687b29b0acce0424e",
       "version_major": 2,
       "version_minor": 0
      },
      "text/plain": [
       "sentence_bert_config.json:   0%|          | 0.00/53.0 [00:00<?, ?B/s]"
      ]
     },
     "metadata": {},
     "output_type": "display_data"
    },
    {
     "data": {
      "application/vnd.jupyter.widget-view+json": {
       "model_id": "7ea8d3e7174643519244d5c800d7663c",
       "version_major": 2,
       "version_minor": 0
      },
      "text/plain": [
       "config.json:   0%|          | 0.00/556 [00:00<?, ?B/s]"
      ]
     },
     "metadata": {},
     "output_type": "display_data"
    },
    {
     "data": {
      "application/vnd.jupyter.widget-view+json": {
       "model_id": "8c91e6dc43ee4907b47867ec1b7d72b1",
       "version_major": 2,
       "version_minor": 0
      },
      "text/plain": [
       "model.safetensors:   0%|          | 0.00/539M [00:00<?, ?B/s]"
      ]
     },
     "metadata": {},
     "output_type": "display_data"
    },
    {
     "data": {
      "application/vnd.jupyter.widget-view+json": {
       "model_id": "15877058d7194e58bac461c0d2cbd000",
       "version_major": 2,
       "version_minor": 0
      },
      "text/plain": [
       "tokenizer_config.json:   0%|          | 0.00/452 [00:00<?, ?B/s]"
      ]
     },
     "metadata": {},
     "output_type": "display_data"
    },
    {
     "data": {
      "application/vnd.jupyter.widget-view+json": {
       "model_id": "e212ca7685904752bd362dfd572e043b",
       "version_major": 2,
       "version_minor": 0
      },
      "text/plain": [
       "vocab.txt:   0%|          | 0.00/996k [00:00<?, ?B/s]"
      ]
     },
     "metadata": {},
     "output_type": "display_data"
    },
    {
     "data": {
      "application/vnd.jupyter.widget-view+json": {
       "model_id": "c364c8b230f04525bc2f1771c62e2d09",
       "version_major": 2,
       "version_minor": 0
      },
      "text/plain": [
       "tokenizer.json:   0%|          | 0.00/1.96M [00:00<?, ?B/s]"
      ]
     },
     "metadata": {},
     "output_type": "display_data"
    },
    {
     "data": {
      "application/vnd.jupyter.widget-view+json": {
       "model_id": "145acf146dd44c11ab7b2dad3c4c95eb",
       "version_major": 2,
       "version_minor": 0
      },
      "text/plain": [
       "special_tokens_map.json:   0%|          | 0.00/112 [00:00<?, ?B/s]"
      ]
     },
     "metadata": {},
     "output_type": "display_data"
    },
    {
     "data": {
      "application/vnd.jupyter.widget-view+json": {
       "model_id": "6d55864c0f23424b8c91081648549974",
       "version_major": 2,
       "version_minor": 0
      },
      "text/plain": [
       "1_Pooling/config.json:   0%|          | 0.00/190 [00:00<?, ?B/s]"
      ]
     },
     "metadata": {},
     "output_type": "display_data"
    },
    {
     "data": {
      "application/vnd.jupyter.widget-view+json": {
       "model_id": "c3f15338a5814f4a9d5eeb1a133ab06a",
       "version_major": 2,
       "version_minor": 0
      },
      "text/plain": [
       "2_Dense/config.json:   0%|          | 0.00/114 [00:00<?, ?B/s]"
      ]
     },
     "metadata": {},
     "output_type": "display_data"
    },
    {
     "data": {
      "application/vnd.jupyter.widget-view+json": {
       "model_id": "726b2b75e5694ff89848be771259321a",
       "version_major": 2,
       "version_minor": 0
      },
      "text/plain": [
       "pytorch_model.bin:   0%|          | 0.00/1.58M [00:00<?, ?B/s]"
      ]
     },
     "metadata": {},
     "output_type": "display_data"
    },
    {
     "data": {
      "application/vnd.jupyter.widget-view+json": {
       "model_id": "04fa7a7829c840af924ad1de5565d818",
       "version_major": 2,
       "version_minor": 0
      },
      "text/plain": [
       "model.safetensors:   0%|          | 0.00/1.58M [00:00<?, ?B/s]"
      ]
     },
     "metadata": {},
     "output_type": "display_data"
    },
    {
     "data": {
      "application/vnd.jupyter.widget-view+json": {
       "model_id": "c0bbcd8319774ab1b4b2efcf4238159e",
       "version_major": 2,
       "version_minor": 0
      },
      "text/plain": [
       "Batches:   0%|          | 0/1 [00:00<?, ?it/s]"
      ]
     },
     "metadata": {},
     "output_type": "display_data"
    },
    {
     "data": {
      "application/vnd.jupyter.widget-view+json": {
       "model_id": "c387067b304d4b2fb6b862bed81cac1b",
       "version_major": 2,
       "version_minor": 0
      },
      "text/plain": [
       "Batches:   0%|          | 0/1 [00:00<?, ?it/s]"
      ]
     },
     "metadata": {},
     "output_type": "display_data"
    }
   ],
   "source": [
    "# Inicializamos el retriever disperso\n",
    "print(\"Inicializando sistema RAG..\")\n",
    "documentos = df['descripcion'].tolist()\n",
    "sparse_retriever = SparseRetriever(documentos)\n",
    "dense_retriever = DenseRetriever(documentos)\n",
    "hybrid_retriever = HybridRetriever(documentos)\n"
   ]
  },
  {
   "cell_type": "markdown",
   "metadata": {
    "id": "rtPHSEjSqtQP"
   },
   "source": [
    "## 7.1 Búsqueda Dispersa"
   ]
  },
  {
   "cell_type": "code",
   "execution_count": 9,
   "metadata": {
    "colab": {
     "base_uri": "https://localhost:8080/"
    },
    "id": "nyAls5OFqwfG",
    "outputId": "3d6a9f2a-21b5-484e-809c-b1444a2356c9"
   },
   "outputs": [
    {
     "name": "stdout",
     "output_type": "stream",
     "text": [
      "\n",
      "Búsqueda: mafia familia italiana nueva york\n",
      "\n",
      "Resultados:\n",
      "- El Padrino (1972)\n",
      "  Score BM25: 8.672\n",
      "  La película sigue a la familia Corleone, una de las familias más poderosas de la mafia italiana en Nueva York.\n",
      "\n",
      "- El Secreto de Sus Ojos (2009)\n",
      "  Score BM25: 0.000\n",
      "  Un oficial judicial se obsesiona con un caso de asesinato sin resolver durante 25 años.\n",
      "\n",
      "- Cinema Paradiso (1988)\n",
      "  Score BM25: 0.000\n",
      "  Un famoso director de cine recuerda su infancia y su primer amor por el cine en un pequeño pueblo italiano.\n",
      "\n"
     ]
    }
   ],
   "source": [
    "# basada en keywords\n",
    "query = \"mafia familia italiana nueva york\"\n",
    "print(\"\\nBúsqueda:\", query)\n",
    "sparse_results = sparse_retriever.buscar(query, top_k=3)\n",
    "print(\"\\nResultados:\")\n",
    "for idx, score in sparse_results:\n",
    "    print(f\"- {df.iloc[idx]['titulo']} ({df.iloc[idx]['año']})\")\n",
    "    print(f\"  Score BM25: {score:.3f}\")\n",
    "    print(f\"  {df.iloc[idx]['descripcion']}\\n\")"
   ]
  },
  {
   "cell_type": "markdown",
   "metadata": {
    "id": "eHDFUhkbs6Qz"
   },
   "source": [
    "## 7.2 Búsqueda Densa"
   ]
  },
  {
   "cell_type": "code",
   "execution_count": 10,
   "metadata": {
    "colab": {
     "base_uri": "https://localhost:8080/"
    },
    "id": "vlLjMHIrs8SS",
    "outputId": "cd15ab61-1eef-41e9-c166-ab8867929c6c"
   },
   "outputs": [
    {
     "name": "stdout",
     "output_type": "stream",
     "text": [
      "\n",
      "Búsqueda: películas que exploran la memoria, la nostalgia y el paso del tiempo\n",
      "\n",
      "Resultados:\n",
      "- Cinema Paradiso (1988)\n",
      "  Similitud semántica: 0.363\n",
      "  Un famoso director de cine recuerda su infancia y su primer amor por el cine en un pequeño pueblo italiano.\n",
      "\n",
      "- El Padrino (1972)\n",
      "  Similitud semántica: 0.191\n",
      "  La película sigue a la familia Corleone, una de las familias más poderosas de la mafia italiana en Nueva York.\n",
      "\n",
      "- El Laberinto del Fauno (2006)\n",
      "  Similitud semántica: 0.178\n",
      "  En la España de 1944, una niña escapa a un mundo mágico y misterioso para huir de su padrastro y la guerra civil.\n",
      "\n"
     ]
    }
   ],
   "source": [
    "# basada en descripciones\n",
    "query = \"películas que exploran la memoria, la nostalgia y el paso del tiempo\"\n",
    "print(\"\\nBúsqueda:\", query)\n",
    "dense_results = dense_retriever.buscar(query, top_k=3)\n",
    "print(\"\\nResultados:\")\n",
    "for idx, score in dense_results:\n",
    "    print(f\"- {df.iloc[idx]['titulo']} ({df.iloc[idx]['año']})\")\n",
    "    print(f\"  Similitud semántica: {score:.3f}\")\n",
    "    print(f\"  {df.iloc[idx]['descripcion']}\\n\")"
   ]
  },
  {
   "cell_type": "markdown",
   "metadata": {
    "id": "VldwkfQgtS1Z"
   },
   "source": [
    "## 7.3 Búsqueda Híbrida"
   ]
  },
  {
   "cell_type": "code",
   "execution_count": 11,
   "metadata": {
    "colab": {
     "base_uri": "https://localhost:8080/"
    },
    "id": "QCIpsIxCtYgk",
    "outputId": "f97bb0af-2453-4ce1-c214-7bf44f0af3d7"
   },
   "outputs": [
    {
     "name": "stdout",
     "output_type": "stream",
     "text": [
      "\n",
      "Búsqueda: violencia y crimen organizado en latinoamérica\n",
      "\n",
      "Resultados:\n",
      "- Ciudad de Dios (2002)\n",
      "  Score combinado: 1.539\n",
      "  La historia del crecimiento del crimen organizado en los suburbios de Río de Janeiro.\n",
      "\n",
      "- Pulp Fiction (1994)\n",
      "  Score combinado: 0.284\n",
      "  Varias historias entrelazadas sobre criminales de Los Ángeles, incluyendo dos hitmen, un boxeador y un gángster.\n",
      "\n",
      "- El Padrino (1972)\n",
      "  Score combinado: 0.208\n",
      "  La película sigue a la familia Corleone, una de las familias más poderosas de la mafia italiana en Nueva York.\n",
      "\n"
     ]
    }
   ],
   "source": [
    "# basada en combinación de tema y palabras clave\n",
    "query = \"violencia y crimen organizado en latinoamérica\"\n",
    "print(\"\\nBúsqueda:\", query)\n",
    "hybrid_results = hybrid_retriever.buscar(query, top_k=3)\n",
    "print(\"\\nResultados:\")\n",
    "for res in hybrid_results:\n",
    "    print(f\"- {res['titulo']} ({res['año']})\")\n",
    "    print(f\"  Score combinado: {res['score']:.3f}\")\n",
    "    print(f\"  {res['descripcion']}\\n\")\n"
   ]
  },
  {
   "cell_type": "markdown",
   "metadata": {
    "id": "w1WDpzhJpO4z"
   },
   "source": [
    "# Análisis de los Casos de Uso\n",
    "\n",
    "1. Búsqueda Dispersa (BM25):\n",
    "   - Demostró excelente precisión para encontrar coincidencias exactas\n",
    "   - Encontró rápidamente la película que contenía las palabras clave específicas\n",
    "   - Ideal para cuando los usuarios saben exactamente qué están buscando\n",
    "\n",
    "2. Búsqueda Densa (Embeddings):\n",
    "   - Captó exitosamente conceptos abstractos y temas\n",
    "   - Encontró películas relevantes incluso sin coincidencias exactas de palabras\n",
    "   - Perfecta para búsquedas conceptuales y exploratorias\n",
    "\n",
    "3. Búsqueda Híbrida:\n",
    "   - Balanceó precisión y comprensión semántica\n",
    "   - Encontró resultados relevantes combinando palabras clave y contexto\n",
    "   - Óptima para consultas complejas del mundo real\n",
    "\n",
    "# Recomendaciones Prácticas:\n",
    "\n",
    "1. Usa búsqueda dispersa cuando:\n",
    "   - Los usuarios buscan por términos específicos\n",
    "   - Necesitas alta precisión en coincidencias exactas\n",
    "   - Trabajas con recursos computacionales limitados\n",
    "\n",
    "2. Usa búsqueda densa cuando:\n",
    "   - Los usuarios hacen consultas conceptuales\n",
    "   - Necesitas entender el significado más allá de las palabras\n",
    "   - Tienes recursos para computar embeddings\n",
    "\n",
    "3. Usa búsqueda híbrida cuando:\n",
    "   - Tienes casos de uso variados\n",
    "   - Necesitas robustez ante diferentes tipos de consultas\n",
    "   - Puedes permitirte el costo computacional adicional\n",
    "\n",
    "# Extensiones Sugeridas:\n",
    "\n",
    "1. Mejoras en la búsqueda dispersa:\n",
    "   - Implementar stemming/lematización\n",
    "   - Usar n-gramas\n",
    "   - Probar diferentes variantes de BM25\n",
    "\n",
    "2. Mejoras en la búsqueda densa:\n",
    "   - Probar diferentes modelos de embeddings\n",
    "   - Implementar cross-encoders para re-ranking\n",
    "   - Usar bases de datos vectoriales (FAISS)\n",
    "\n",
    "3. Mejoras en la fusión:\n",
    "   - Implementar métodos más sofisticados de fusión\n",
    "   - Ajustar pesos dinámicamente\n",
    "   - Añadir re-ranking\n",
    "\n",
    "4. Mejoras en la generación:\n",
    "   - Usar un LLM real\n",
    "   - Implementar few-shot prompting\n",
    "   - Añadir control de fuentes"
   ]
  }
 ],
 "metadata": {
  "colab": {
   "authorship_tag": "ABX9TyNe2GFbRlkPLa1BE9335pSS",
   "include_colab_link": true,
   "provenance": []
  },
  "kernelspec": {
   "display_name": "Python 3",
   "name": "python3"
  },
  "language_info": {
   "name": "python"
  }
 },
 "nbformat": 4,
 "nbformat_minor": 0
}
