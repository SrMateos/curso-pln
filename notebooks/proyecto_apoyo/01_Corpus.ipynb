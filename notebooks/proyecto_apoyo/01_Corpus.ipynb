{
  "cells": [
    {
      "cell_type": "markdown",
      "metadata": {
        "id": "view-in-github",
        "colab_type": "text"
      },
      "source": [
        "<a href=\"https://colab.research.google.com/github/cbadenes/curso-pln/blob/main/notebooks/proyecto_apoyo/Corpus.ipynb\" target=\"_parent\"><img src=\"https://colab.research.google.com/assets/colab-badge.svg\" alt=\"Open In Colab\"/></a>"
      ]
    },
    {
      "cell_type": "markdown",
      "source": [
        "#DATASETS"
      ],
      "metadata": {
        "id": "ACW5H2w26g7X"
      }
    },
    {
      "cell_type": "markdown",
      "source": [
        "##HUGGING FACE"
      ],
      "metadata": {
        "id": "KBemuTtC6kPO"
      }
    },
    {
      "cell_type": "code",
      "source": [
        "!pip install datasets"
      ],
      "metadata": {
        "id": "8sZirzR868J_"
      },
      "execution_count": null,
      "outputs": []
    },
    {
      "cell_type": "code",
      "source": [
        "from datasets import load_dataset\n",
        "\n",
        "# Cargar el dataset de MultiWOZ 2.2 desde Hugging Face\n",
        "dataset = load_dataset(\"multi_woz_v22\")\n",
        "\n",
        "# Explorar el dataset\n",
        "print(\"Columnas:\", dataset[\"train\"].column_names)\n",
        "print(\"Ejemplo de diálogo:\")\n",
        "print(dataset[\"train\"][0])\n",
        "\n",
        "# Procesar un diálogo\n",
        "for i in range(len(dataset[\"train\"][0][\"turns\"]['speaker'])):\n",
        "    print('Speaker ', dataset[\"train\"][0][\"turns\"]['speaker'][i], \": \", dataset[\"train\"][0][\"turns\"]['utterance'][i])\n"
      ],
      "metadata": {
        "colab": {
          "base_uri": "https://localhost:8080/"
        },
        "id": "hcneycsZ60-g",
        "outputId": "ab8c0dda-f77e-4986-e61d-39f8be0e6975"
      },
      "execution_count": null,
      "outputs": [
        {
          "output_type": "stream",
          "name": "stdout",
          "text": [
            "Columnas: ['dialogue_id', 'services', 'turns']\n",
            "Ejemplo de diálogo:\n",
            "{'dialogue_id': 'PMUL4398.json', 'services': ['restaurant', 'hotel'], 'turns': {'turn_id': ['0', '1', '2', '3', '4', '5', '6', '7', '8', '9', '10', '11'], 'speaker': [0, 1, 0, 1, 0, 1, 0, 1, 0, 1, 0, 1], 'utterance': ['i need a place to dine in the center thats expensive', 'I have several options for you; do you prefer African, Asian, or British food?', 'Any sort of food would be fine, as long as it is a bit expensive. Could I get the phone number for your recommendation?', 'There is an Afrian place named Bedouin in the centre. How does that sound?', 'Sounds good, could I get that phone number? Also, could you recommend me an expensive hotel?', \"Bedouin's phone is 01223367660. As far as hotels go, I recommend the University Arms Hotel in the center of town.\", 'Yes. Can you book it for me?', 'Sure, when would you like that reservation?', 'i want to book it for 2 people and 2 nights starting from saturday.', 'Your booking was successful. Your reference number is FRGZWQL2 . May I help you further?', 'That is all I need to know. Thanks, good bye.', 'Thank you so much for Cambridge TownInfo centre. Have a great day!'], 'frames': [{'service': ['restaurant', 'hotel'], 'state': [{'active_intent': 'find_restaurant', 'requested_slots': [], 'slots_values': {'slots_values_name': ['restaurant-area', 'restaurant-pricerange'], 'slots_values_list': [['centre'], ['expensive']]}}, {'active_intent': 'find_hotel', 'requested_slots': [], 'slots_values': {'slots_values_name': [], 'slots_values_list': []}}], 'slots': [{'slot': [], 'value': [], 'start': [], 'exclusive_end': [], 'copy_from': [], 'copy_from_value': []}, {'slot': [], 'value': [], 'start': [], 'exclusive_end': [], 'copy_from': [], 'copy_from_value': []}]}, {'service': [], 'state': [], 'slots': []}, {'service': ['restaurant', 'hotel'], 'state': [{'active_intent': 'find_restaurant', 'requested_slots': ['restaurant-food'], 'slots_values': {'slots_values_name': ['restaurant-area', 'restaurant-pricerange'], 'slots_values_list': [['centre'], ['expensive']]}}, {'active_intent': 'find_hotel', 'requested_slots': [], 'slots_values': {'slots_values_name': [], 'slots_values_list': []}}], 'slots': [{'slot': [], 'value': [], 'start': [], 'exclusive_end': [], 'copy_from': [], 'copy_from_value': []}, {'slot': [], 'value': [], 'start': [], 'exclusive_end': [], 'copy_from': [], 'copy_from_value': []}]}, {'service': [], 'state': [], 'slots': []}, {'service': ['restaurant', 'hotel'], 'state': [{'active_intent': 'find_restaurant', 'requested_slots': ['restaurant-phone'], 'slots_values': {'slots_values_name': ['restaurant-area', 'restaurant-name', 'restaurant-pricerange'], 'slots_values_list': [['centre'], ['bedouin'], ['expensive']]}}, {'active_intent': 'find_hotel', 'requested_slots': [], 'slots_values': {'slots_values_name': ['hotel-pricerange', 'hotel-type'], 'slots_values_list': [['expensive'], ['hotel']]}}], 'slots': [{'slot': [], 'value': [], 'start': [], 'exclusive_end': [], 'copy_from': [], 'copy_from_value': []}, {'slot': [], 'value': [], 'start': [], 'exclusive_end': [], 'copy_from': [], 'copy_from_value': []}]}, {'service': [], 'state': [], 'slots': []}, {'service': ['hotel'], 'state': [{'active_intent': 'find_hotel', 'requested_slots': [], 'slots_values': {'slots_values_name': ['hotel-name', 'hotel-pricerange', 'hotel-type'], 'slots_values_list': [['university arms hotel'], ['expensive'], ['hotel']]}}], 'slots': [{'slot': [], 'value': [], 'start': [], 'exclusive_end': [], 'copy_from': [], 'copy_from_value': []}]}, {'service': [], 'state': [], 'slots': []}, {'service': ['hotel'], 'state': [{'active_intent': 'book_hotel', 'requested_slots': [], 'slots_values': {'slots_values_name': ['hotel-bookday', 'hotel-bookpeople', 'hotel-bookstay', 'hotel-name', 'hotel-pricerange', 'hotel-type'], 'slots_values_list': [['saturday'], ['2'], ['2'], ['university arms hotel'], ['expensive'], ['hotel']]}}], 'slots': [{'slot': [], 'value': [], 'start': [], 'exclusive_end': [], 'copy_from': [], 'copy_from_value': []}]}, {'service': [], 'state': [], 'slots': []}, {'service': [], 'state': [], 'slots': []}, {'service': [], 'state': [], 'slots': []}], 'dialogue_acts': [{'dialog_act': {'act_type': ['Restaurant-Inform'], 'act_slots': [{'slot_name': ['area', 'pricerange'], 'slot_value': ['centre', 'expensive']}]}, 'span_info': {'act_type': ['Restaurant-Inform', 'Restaurant-Inform'], 'act_slot_name': ['area', 'pricerange'], 'act_slot_value': ['centre', 'expensive'], 'span_start': [30, 43], 'span_end': [36, 52]}}, {'dialog_act': {'act_type': ['Restaurant-Inform', 'Restaurant-Select'], 'act_slots': [{'slot_name': ['choice'], 'slot_value': ['several']}, {'slot_name': ['food', 'food', 'food'], 'slot_value': ['African', 'Asian', 'British']}]}, 'span_info': {'act_type': ['Restaurant-Inform', 'Restaurant-Select', 'Restaurant-Select', 'Restaurant-Select'], 'act_slot_name': ['choice', 'food', 'food', 'food'], 'act_slot_value': ['several', 'African', 'Asian', 'British'], 'span_start': [7, 46, 55, 65], 'span_end': [14, 53, 60, 72]}}, {'dialog_act': {'act_type': ['Restaurant-Request'], 'act_slots': [{'slot_name': ['food'], 'slot_value': ['?']}]}, 'span_info': {'act_type': [], 'act_slot_name': [], 'act_slot_value': [], 'span_start': [], 'span_end': []}}, {'dialog_act': {'act_type': ['Restaurant-Inform'], 'act_slots': [{'slot_name': ['area', 'food', 'name'], 'slot_value': ['centre', 'Afrian', 'Bedouin']}]}, 'span_info': {'act_type': ['Restaurant-Inform', 'Restaurant-Inform', 'Restaurant-Inform'], 'act_slot_name': ['food', 'name', 'area'], 'act_slot_value': ['Afrian', 'Bedouin', 'centre'], 'span_start': [12, 31, 46], 'span_end': [18, 38, 52]}}, {'dialog_act': {'act_type': ['Hotel-Inform', 'Restaurant-Request'], 'act_slots': [{'slot_name': ['pricerange', 'type'], 'slot_value': ['expensive', 'hotel']}, {'slot_name': ['phone'], 'slot_value': ['?']}]}, 'span_info': {'act_type': ['Hotel-Inform', 'Hotel-Inform'], 'act_slot_name': ['pricerange', 'type'], 'act_slot_value': ['expensive', 'hotel'], 'span_start': [76, 86], 'span_end': [85, 91]}}, {'dialog_act': {'act_type': ['Hotel-Recommend', 'Restaurant-Inform'], 'act_slots': [{'slot_name': ['area', 'name'], 'slot_value': ['center of town', 'the University Arms Hotel']}, {'slot_name': ['name', 'phone'], 'slot_value': ['Bedouin', '01223367660']}]}, 'span_info': {'act_type': ['Restaurant-Inform', 'Restaurant-Inform', 'Hotel-Recommend', 'Hotel-Recommend'], 'act_slot_name': ['name', 'phone', 'name', 'area'], 'act_slot_value': ['Bedouin', '01223367660', 'the University Arms Hotel', 'center of town'], 'span_start': [0, 19, 65, 98], 'span_end': [7, 30, 90, 112]}}, {'dialog_act': {'act_type': ['Hotel-Inform'], 'act_slots': [{'slot_name': ['none'], 'slot_value': ['none']}]}, 'span_info': {'act_type': [], 'act_slot_name': [], 'act_slot_value': [], 'span_start': [], 'span_end': []}}, {'dialog_act': {'act_type': ['Booking-Request'], 'act_slots': [{'slot_name': ['bookday'], 'slot_value': ['?']}]}, 'span_info': {'act_type': [], 'act_slot_name': [], 'act_slot_value': [], 'span_start': [], 'span_end': []}}, {'dialog_act': {'act_type': ['Hotel-Inform'], 'act_slots': [{'slot_name': ['bookday', 'bookpeople', 'bookstay'], 'slot_value': ['saturday', '2', '2']}]}, 'span_info': {'act_type': ['Hotel-Inform', 'Hotel-Inform', 'Hotel-Inform'], 'act_slot_name': ['bookstay', 'bookpeople', 'bookday'], 'act_slot_value': ['2', '2', 'saturday'], 'span_start': [22, 35, 58], 'span_end': [23, 36, 66]}}, {'dialog_act': {'act_type': ['Booking-Book', 'general-reqmore'], 'act_slots': [{'slot_name': ['ref'], 'slot_value': ['FRGZWQL2']}, {'slot_name': ['none'], 'slot_value': ['none']}]}, 'span_info': {'act_type': ['Booking-Book'], 'act_slot_name': ['ref'], 'act_slot_value': ['FRGZWQL2'], 'span_start': [54], 'span_end': [62]}}, {'dialog_act': {'act_type': ['general-bye'], 'act_slots': [{'slot_name': ['none'], 'slot_value': ['none']}]}, 'span_info': {'act_type': [], 'act_slot_name': [], 'act_slot_value': [], 'span_start': [], 'span_end': []}}, {'dialog_act': {'act_type': ['general-bye', 'general-welcome'], 'act_slots': [{'slot_name': ['none'], 'slot_value': ['none']}, {'slot_name': ['none'], 'slot_value': ['none']}]}, 'span_info': {'act_type': [], 'act_slot_name': [], 'act_slot_value': [], 'span_start': [], 'span_end': []}}]}}\n",
            "Speaker  0 :  i need a place to dine in the center thats expensive\n",
            "Speaker  1 :  I have several options for you; do you prefer African, Asian, or British food?\n",
            "Speaker  0 :  Any sort of food would be fine, as long as it is a bit expensive. Could I get the phone number for your recommendation?\n",
            "Speaker  1 :  There is an Afrian place named Bedouin in the centre. How does that sound?\n",
            "Speaker  0 :  Sounds good, could I get that phone number? Also, could you recommend me an expensive hotel?\n",
            "Speaker  1 :  Bedouin's phone is 01223367660. As far as hotels go, I recommend the University Arms Hotel in the center of town.\n",
            "Speaker  0 :  Yes. Can you book it for me?\n",
            "Speaker  1 :  Sure, when would you like that reservation?\n",
            "Speaker  0 :  i want to book it for 2 people and 2 nights starting from saturday.\n",
            "Speaker  1 :  Your booking was successful. Your reference number is FRGZWQL2 . May I help you further?\n",
            "Speaker  0 :  That is all I need to know. Thanks, good bye.\n",
            "Speaker  1 :  Thank you so much for Cambridge TownInfo centre. Have a great day!\n"
          ]
        }
      ]
    },
    {
      "cell_type": "markdown",
      "source": [
        "##KAGGLE"
      ],
      "metadata": {
        "id": "2x3Vx7kY6mln"
      }
    },
    {
      "cell_type": "code",
      "source": [
        "!pip install kaggle\n"
      ],
      "metadata": {
        "colab": {
          "base_uri": "https://localhost:8080/"
        },
        "id": "QoeWi_8U7AW3",
        "outputId": "23758305-cef7-48a6-8e9a-6431550832f3"
      },
      "execution_count": null,
      "outputs": [
        {
          "output_type": "stream",
          "name": "stdout",
          "text": [
            "Requirement already satisfied: kaggle in /usr/local/lib/python3.11/dist-packages (1.6.17)\n",
            "Requirement already satisfied: six>=1.10 in /usr/local/lib/python3.11/dist-packages (from kaggle) (1.17.0)\n",
            "Requirement already satisfied: certifi>=2023.7.22 in /usr/local/lib/python3.11/dist-packages (from kaggle) (2024.12.14)\n",
            "Requirement already satisfied: python-dateutil in /usr/local/lib/python3.11/dist-packages (from kaggle) (2.8.2)\n",
            "Requirement already satisfied: requests in /usr/local/lib/python3.11/dist-packages (from kaggle) (2.32.3)\n",
            "Requirement already satisfied: tqdm in /usr/local/lib/python3.11/dist-packages (from kaggle) (4.67.1)\n",
            "Requirement already satisfied: python-slugify in /usr/local/lib/python3.11/dist-packages (from kaggle) (8.0.4)\n",
            "Requirement already satisfied: urllib3 in /usr/local/lib/python3.11/dist-packages (from kaggle) (2.3.0)\n",
            "Requirement already satisfied: bleach in /usr/local/lib/python3.11/dist-packages (from kaggle) (6.2.0)\n",
            "Requirement already satisfied: webencodings in /usr/local/lib/python3.11/dist-packages (from bleach->kaggle) (0.5.1)\n",
            "Requirement already satisfied: text-unidecode>=1.3 in /usr/local/lib/python3.11/dist-packages (from python-slugify->kaggle) (1.3)\n",
            "Requirement already satisfied: charset-normalizer<4,>=2 in /usr/local/lib/python3.11/dist-packages (from requests->kaggle) (3.4.1)\n",
            "Requirement already satisfied: idna<4,>=2.5 in /usr/local/lib/python3.11/dist-packages (from requests->kaggle) (3.10)\n"
          ]
        }
      ]
    },
    {
      "cell_type": "markdown",
      "source": [
        "Usamos de ejemplo un dataset de reviews de Amazon:\n",
        "https://www.kaggle.com/datasets/kritanjalijain/amazon-reviews"
      ],
      "metadata": {
        "id": "asziipfU7JXf"
      }
    },
    {
      "cell_type": "code",
      "source": [
        "import os\n",
        "import pandas as pd\n",
        "import kagglehub\n",
        "\n",
        "# Descarga la última versión del dataset\n",
        "path = kagglehub.dataset_download(\"kritanjalijain/amazon-reviews\")\n",
        "archivos = os.listdir(path)\n",
        "print(\"Archivos disponibles en el dataset:\", archivos)\n",
        "\n",
        "# Ruta al archivo de entrenamiento (tras visualización de archivos descargados)\n",
        "archivo_train = path+\"/\"+archivos[2]\n",
        "\n",
        "# Cargar los datos en un DataFrame\n",
        "df_train = pd.read_csv(archivo_train, header=None, names=[\"sentiment\", \"review\"])\n",
        "\n",
        "# Mostrar información básica\n",
        "print(\"Primeras filas del dataset:\")\n",
        "print(df_train.head())\n",
        "\n",
        "print(\"\\nDescripción del dataset:\")\n",
        "print(df_train.describe())\n",
        "\n"
      ],
      "metadata": {
        "colab": {
          "base_uri": "https://localhost:8080/"
        },
        "id": "DAAdx4Rf7EKX",
        "outputId": "f340affb-d834-4b58-a7a7-45711513682c"
      },
      "execution_count": null,
      "outputs": [
        {
          "output_type": "stream",
          "name": "stdout",
          "text": [
            "Archivos disponibles en el dataset: ['test.csv', 'amazon_review_polarity_csv.tgz', 'train.csv']\n",
            "Primeras filas del dataset:\n",
            "                                           sentiment  \\\n",
            "2                     Stuning even for the non-gamer   \n",
            "2              The best soundtrack ever to anything.   \n",
            "2                                           Amazing!   \n",
            "2                               Excellent Soundtrack   \n",
            "2  Remember, Pull Your Jaw Off The Floor After He...   \n",
            "\n",
            "                                              review  \n",
            "2  This sound track was beautiful! It paints the ...  \n",
            "2  I'm reading a lot of reviews saying that this ...  \n",
            "2  This soundtrack is my favorite music of all ti...  \n",
            "2  I truly like this soundtrack and I enjoy video...  \n",
            "2  If you've played the game, you know how divine...  \n",
            "\n",
            "Descripción del dataset:\n",
            "           sentiment                                             review\n",
            "count        3599793                                            3600000\n",
            "unique       2628752                                            3594783\n",
            "top     Disappointed  I bought a QPS back in April, I had configurat...\n",
            "freq            9623                                                 15\n"
          ]
        }
      ]
    },
    {
      "cell_type": "code",
      "source": [
        "# Verificar la distribución de clases\n",
        "print(\"Distribución de clases:\")\n",
        "print(df_train[\"sentiment\"].value_counts())"
      ],
      "metadata": {
        "colab": {
          "base_uri": "https://localhost:8080/"
        },
        "id": "EQBIlduEIQdI",
        "outputId": "64eae329-35d3-4e82-8721-f8b3843158f9"
      },
      "execution_count": null,
      "outputs": [
        {
          "output_type": "stream",
          "name": "stdout",
          "text": [
            "Distribución de clases:\n",
            "sentiment\n",
            "Disappointed                                                9623\n",
            "Disappointing                                               9169\n",
            "Excellent                                                   4367\n",
            "Great                                                       3530\n",
            "Don't waste your money                                      3201\n",
            "                                                            ... \n",
            "Overrated, boring, behind the times, irrelevant                1\n",
            "Too much time for first magazine and still waiting !!!!!       1\n",
            "TAKES TOO LONG TO RECEIVE                                      1\n",
            "Socialism                                                      1\n",
            "Makes My Blood Run Red-White-And-Blue                          1\n",
            "Name: count, Length: 2628752, dtype: int64\n"
          ]
        }
      ]
    },
    {
      "cell_type": "markdown",
      "source": [
        "##PAPERSWITHCODE"
      ],
      "metadata": {
        "id": "ORfASHeB6rbn"
      }
    },
    {
      "cell_type": "code",
      "source": [
        "import requests\n",
        "import zipfile\n",
        "import os\n",
        "\n",
        "# Descargar el dataset de IMDB desde Papers with Code (enlace directo)\n",
        "url = \"https://ai.stanford.edu/~amaas/data/sentiment/aclImdb_v1.tar.gz\"\n",
        "dataset_path = \"imdb_dataset.tar.gz\"\n",
        "\n",
        "# Descargar el archivo\n",
        "response = requests.get(url, stream=True)\n",
        "with open(dataset_path, \"wb\") as f:\n",
        "    for chunk in response.iter_content(chunk_size=8192):\n",
        "        f.write(chunk)\n",
        "\n",
        "# Descomprimir el archivo\n",
        "import tarfile\n",
        "with tarfile.open(dataset_path, \"r:gz\") as tar:\n",
        "    tar.extractall(path=\"imdb_dataset\")\n",
        "\n",
        "# Leer un ejemplo\n",
        "data_dir = \"imdb_dataset/aclImdb/train/pos\"\n",
        "example_file = os.listdir(data_dir)[0]\n",
        "with open(os.path.join(data_dir, example_file), \"r\", encoding=\"utf-8\") as f:\n",
        "    print(f\"Ejemplo de opinión positiva:\\n{f.read()}\")\n"
      ],
      "metadata": {
        "colab": {
          "base_uri": "https://localhost:8080/"
        },
        "id": "buP1knYa-yfY",
        "outputId": "2f186e9d-092c-4869-d2a3-60d3f143fc61"
      },
      "execution_count": null,
      "outputs": [
        {
          "output_type": "stream",
          "name": "stdout",
          "text": [
            "Ejemplo de opinión positiva:\n",
            "The story is about a little girl growing up in colonial Africa, but it is so much more than that.<br /><br />Anyone growing up in the South would experience the same things. A longing for another, one of a different race, that cannot be consummated. Even a glance is forbidden. There are no words needed. Their facial expressions say everything.<br /><br />It is the story of a black servant, Protée (Isaach De Bankolé) and a white woman, Aimée (Giulia Boschi). Their desire for each other is so strong that they torture each other because they cannot have each other.<br /><br />The little girl, France (Cécile Ducasse) is lonely and spends all her time with Protée. She really can't see this dance.<br /><br />One of the more irritating aspects of the film is the laziness of the colonials. They cannot even get undressed for bed by themselves. There world is about to end; they just don't know it yet. Their racist attitudes will be erased with their presence.<br /><br />I think I would like to visit this Africa. It seems so quiet; especially at night when you only hear the animals.\n"
          ]
        }
      ]
    },
    {
      "cell_type": "markdown",
      "source": [
        "#SCRAPPING"
      ],
      "metadata": {
        "id": "-50nh0R9OHHE"
      }
    },
    {
      "cell_type": "markdown",
      "source": [
        "##BEAUTIFULSOUP"
      ],
      "metadata": {
        "id": "acPUrmL7JGwx"
      }
    },
    {
      "cell_type": "code",
      "source": [
        "import requests\n",
        "from bs4 import BeautifulSoup\n",
        "\n",
        "def get_boe_dispositions(query):\n",
        "    # URL base para realizar la búsqueda en el BOE\n",
        "    url = f\"https://www.boe.es/buscar/legislacion.php?campo%5B2%5D=TITULOS&dato%5B2%5D={query}&accion=Buscar\"\n",
        "    # Realizar la solicitud a la página\n",
        "    response = requests.get(url)\n",
        "    if response.status_code == 200:\n",
        "        # Parsear el HTML de la página\n",
        "        soup = BeautifulSoup(response.content, \"html.parser\")\n",
        "\n",
        "        # Buscar las disposiciones dentro del HTML\n",
        "        results = soup.find_all(\"li\", class_=\"resultado-busqueda\")\n",
        "\n",
        "        dispositions = []\n",
        "        for result in results:\n",
        "            # Extraer el título\n",
        "            title_tag = result.find(\"h3\")\n",
        "            title = title_tag.get_text(strip=True) if title_tag else \"Título no disponible\"\n",
        "\n",
        "            # Extraer el resumen\n",
        "            summary_tag = result.find(\"p\")\n",
        "            summary = summary_tag.get_text(strip=True) if summary_tag else \"Resumen no disponible\"\n",
        "\n",
        "            # Extraer el enlace y completar la URL\n",
        "            link_tag = result.find(\"a\", class_=\"resultado-busqueda-link-defecto\")\n",
        "            link = \"https://www.boe.es\" + link_tag[\"href\"] if link_tag else \"Enlace no disponible\"\n",
        "\n",
        "            dispositions.append({\"title\": title, \"summary\": summary, \"url\": link})\n",
        "\n",
        "        return dispositions\n",
        "    else:\n",
        "        print(f\"Error al acceder al BOE: {response.status_code}\")\n",
        "        return []\n",
        "\n",
        "# Probar con una consulta específica\n",
        "query = \"teletrabajo\"\n",
        "boe_dispositions = get_boe_dispositions(query)\n",
        "\n",
        "# Mostrar resultados\n",
        "for i, disposition in enumerate(boe_dispositions, 1):\n",
        "    print(f\"{i}. {disposition['title']}\")\n",
        "    print(f\"   Resumen: {disposition['summary']}\")\n",
        "    print(f\"   URL: {disposition['url']}\\n\")\n",
        "\n"
      ],
      "metadata": {
        "colab": {
          "base_uri": "https://localhost:8080/"
        },
        "id": "EQzJnjctJMkI",
        "outputId": "bd8cdf82-7ec2-43f1-fc08-972111c81d06"
      },
      "execution_count": null,
      "outputs": [
        {
          "output_type": "stream",
          "name": "stdout",
          "text": [
            "1. Ministerio de Trabajo y Economía Social (BOE 288 de 02/12/2021)\n",
            "   Resumen: Resolución de 18 de noviembre de 2021, de la Dirección General de Trabajo, por la que se registra y publica el Acuerdo de modificación del artículo 40 del Convenio colectivo de Orange Espagne, SAU.\n",
            "   URL: https://www.boe.es../buscar/doc.php?id=BOE-A-2021-19976\n",
            "\n",
            "2. Ministerio de Trabajo y Economía Social (BOE 13 de 15/01/2022)\n",
            "   Resumen: Resolución de 29 de diciembre de 2021, de la Dirección General de Trabajo, por la que se registra y publica el Acuerdo de modificación del Convenio colectivo de Orange España Comunicaciones Fijas, SLU.\n",
            "   URL: https://www.boe.es../buscar/doc.php?id=BOE-A-2022-653\n",
            "\n",
            "3. Ministerio de Trabajo y Economía Social (BOE 77 de 31/03/2023)\n",
            "   Resumen: Resolución de 21 de marzo de 2023, de la Dirección General de Trabajo, por la que se registra y publica la prorroga y modificación del IV Convenio Colectivo de Orange Espagne, SAU.\n",
            "   URL: https://www.boe.es../buscar/doc.php?id=BOE-A-2023-8187\n",
            "\n",
            "4. Ministerio de Administraciones Públicas (BOE 149 de 23/06/2006)\n",
            "   Resumen: Orden APU/1981/2006, de 21 de junio, por la que se promueve la implantación de programas piloto de teletrabajo en los departamentos ministeriales.\n",
            "   URL: https://www.boe.es../buscar/doc.php?id=BOE-A-2006-11202\n",
            "\n",
            "5. Ministerio de Trabajo y Economía Social (BOE 77 de 31/03/2023)\n",
            "   Resumen: Resolución de 21 de marzo de 2023, de la Dirección General de Trabajo, por la que se registra y publica la derogación y sustitución de los artículos 2, 27, 31, 37 y 40, la modificación del artículo 7, mediante la adición de la disposición adicional segunda, y la creación de la nueva disposición adicional tercera del I Convenio Colectivo de Orange España Comunicaciones Fijas, SLU.\n",
            "   URL: https://www.boe.es../buscar/doc.php?id=BOE-A-2023-8184\n",
            "\n",
            "6. Ministerio de Asuntos Exteriores, Unión Europea y Cooperación (BOE 185 de 04/08/2023)\n",
            "   Resumen: Acuerdo marco relativo a la aplicación del apartado 1 del artículo 16 del Reglamento (CE) n.º 883/2004 en los casos de teletrabajo transfronterizo habitual.\n",
            "   URL: https://www.boe.es../buscar/doc.php?id=BOE-A-2023-17874\n",
            "\n",
            "7. Ministerio de Trabajo y Asuntos Sociales (BOE 263 de 03/11/2006)\n",
            "   Resumen: Resolución de 10 de octubre de 2006, de la Dirección General de Trabajo, por la que se dispone la inscripción en el registro y publicación de diversos Acuerdos que pasan a formar parte del Convenio colectivo de Telefónica de España, S.A.U.\n",
            "   URL: https://www.boe.es../buscar/doc.php?id=BOE-A-2006-19155\n",
            "\n",
            "8. Ministerio de Justicia (BOE 159 de 06/06/2020)\n",
            "   Resumen: Orden JUS/504/2020, de 5 de junio, por la que se activa la Fase 3 del Plan de Desescalada para la Administración de Justicia ante el COVID-19.\n",
            "   URL: https://www.boe.es../buscar/doc.php?id=BOE-A-2020-5764\n",
            "\n",
            "9. Ministerio de Trabajo y Economía Social (BOE 273 de 15/11/2023)\n",
            "   Resumen: Resolución de 3 de noviembre de 2023, de la Dirección General de Trabajo, por la que se registra y publica la modificación del II Convenio colectivo estatal de acción e intervención social.\n",
            "   URL: https://www.boe.es../buscar/doc.php?id=BOE-A-2023-23191\n",
            "\n",
            "10. Ministerio de Trabajo y Economía Social (BOE 176 de 23/07/2022)\n",
            "   Resumen: Resolución de 12 de julio de 2022, de la Dirección General de Trabajo, por la que se registra y publica el Acuerdo de prórroga y modificación del IV Convenio colectivo de Axión Infraestructuras de Telecomunicaciones, SAU.\n",
            "   URL: https://www.boe.es../buscar/doc.php?id=BOE-A-2022-12269\n",
            "\n",
            "11. Ministerio de Trabajo y Economía Social (BOE 299 de 15/12/2021)\n",
            "   Resumen: Resolución de 2 de diciembre de 2021, de la Dirección General de Trabajo, por la que se registra y publica el Acuerdo parcial por el que se modifica el VIII Convenio colectivo de Telefónica On The Spot Services, SAU.\n",
            "   URL: https://www.boe.es../buscar/doc.php?id=BOE-A-2021-20696\n",
            "\n",
            "12. Ministerio de Trabajo y Economía Social (BOE 113 de 12/05/2022)\n",
            "   Resumen: Resolución de 22 de abril de 2022, de la Dirección General de Trabajo, por la que se registra y publica el Acuerdo de teletrabajo y otras formas de flexibilidad que modifica el VI Convenio colectivo de la empresa Telefónica Servicios Audiovisuales, SAU.\n",
            "   URL: https://www.boe.es../buscar/doc.php?id=BOE-A-2022-7754\n",
            "\n",
            "13. Ministerio de Trabajo y Economía Social (BOE 88 de 13/04/2022)\n",
            "   Resumen: Resolución de 31 de marzo de 2022, de la Dirección General de Trabajo, por la que se registran y publican los Acuerdos de prórroga y modificación del Convenio colectivo de Teleinformática y Comunicaciones, SAU.\n",
            "   URL: https://www.boe.es../buscar/doc.php?id=BOE-A-2022-6086\n",
            "\n",
            "14. Jefatura del Estado (BOE 259 de 30/09/2020)\n",
            "   Resumen: Real Decreto-ley 29/2020, de 29 de septiembre, de medidas urgentes en materia de teletrabajo en las Administraciones Públicas y de recursos humanos en el Sistema Nacional de Salud para hacer frente a la crisis sanitaria ocasionada por la COVID-19.\n",
            "   URL: https://www.boe.es../buscar/doc.php?id=BOE-A-2020-11415\n",
            "\n",
            "15. Ministerio de Justicia (BOE 253 de 23/09/2020)\n",
            "   Resumen: Resolución de 11 de septiembre de 2020, de la Dirección General de Seguridad Jurídica y Fe Pública, por la que se acuerda el restablecimiento de medidas por rebrotes de COVID-19 en el Registro de Lorca n.º 1.\n",
            "   URL: https://www.boe.es../buscar/doc.php?id=BOE-A-2020-11089\n",
            "\n",
            "16. Cortes Generales (BOE 279 de 22/10/2020)\n",
            "   Resumen: Resolución de 15 de octubre de 2020, del Congreso de los Diputados, por la que se ordena la publicación del Acuerdo de convalidación del Real Decreto-ley 29/2020, de 29 de septiembre, de medidas urgentes en materia de teletrabajo en las Administraciones Públicas y de recursos humanos en el Sistema Nacional de Salud para hacer frente a la crisis sanitaria ocasionada por la COVID-19.\n",
            "   URL: https://www.boe.es../buscar/doc.php?id=BOE-A-2020-12690\n",
            "\n",
            "17. Ministerio de Trabajo y Economía Social (BOE 209 de 01/09/2021)\n",
            "   Resumen: Resolución de 19 de agosto de 2021, de la Dirección General de Trabajo, por la que se registran y publican los acuerdos de modificación y prórroga del II Convenio colectivo de Telefónica de España, SAU, Telefónica Móviles España, SAU y Telefónica Soluciones de Informática y Comunicaciones de España, SAU.\n",
            "   URL: https://www.boe.es../buscar/doc.php?id=BOE-A-2021-14398\n",
            "\n",
            "18. Ministerio de Justicia (BOE 211 de 05/08/2020)\n",
            "   Resumen: Resolución de 27 de julio de 2020, de la Dirección General de Seguridad Jurídica y Fe Pública, por la que se acuerda el restablecimiento de medidas en caso de rebrotes de COVID-19 en el Registro de Totana.\n",
            "   URL: https://www.boe.es../buscar/doc.php?id=BOE-A-2020-9199\n",
            "\n",
            "19. Ministerio de Trabajo y Economía Social (BOE 255 de 25/10/2023)\n",
            "   Resumen: Resolución de 10 de octubre de 2023, de la Dirección General de Trabajo, por la que se registra y publica el Convenio colectivo de Michelin España Portugal, SA, para los centros de trabajo de Tres Cantos (Madrid) e Illescas (Toledo).\n",
            "   URL: https://www.boe.es../buscar/doc.php?id=BOE-A-2023-21915\n",
            "\n",
            "20. Ministerio de Justicia (BOE 201 de 24/07/2020)\n",
            "   Resumen: Resolución de 21 de julio de 2020, de la Dirección General de Seguridad Jurídica y Fe Pública, por la que se acuerda el restablecimiento de medidas en caso de rebrotes de COVID-19.\n",
            "   URL: https://www.boe.es../buscar/doc.php?id=BOE-A-2020-8491\n",
            "\n",
            "21. Ministerio de Trabajo y Economía Social (BOE 10 de 11/01/2024)\n",
            "   Resumen: Resolución de 29 de diciembre de 2023, de la Dirección General de Trabajo, por la que se registra y publica la modificación del Convenio colectivo de NCR España, SL.\n",
            "   URL: https://www.boe.es../buscar/doc.php?id=BOE-A-2024-650\n",
            "\n",
            "22. Ministerio de Trabajo y Economía Social (BOE 261 de 31/10/2022)\n",
            "   Resumen: Resolución de 18 de octubre de 2022, de la Dirección General de Trabajo, por la que se registra y publica el Convenio colectivo de Ercros, SA.\n",
            "   URL: https://www.boe.es../buscar/doc.php?id=BOE-A-2022-17792\n",
            "\n",
            "23. Ministerio de Empleo y Seguridad Social (BOE 99 de 25/04/2015)\n",
            "   Resumen: Resolución de 14 de abril de 2015, de la Dirección General de Empleo, por la que se registra y publica el III Convenio colectivo de Nokia Solutions and Networks Spain, SL.\n",
            "   URL: https://www.boe.es../buscar/doc.php?id=BOE-A-2015-4537\n",
            "\n",
            "24. Ministerio de Trabajo y Asuntos Sociales (BOE 47 de 24/02/2003)\n",
            "   Resumen: Resolución de 31 de enero de 2003, de la Dirección General de Trabajo, por la que se dispone la inscripción en el Registro y publicación del Acuerdo Interconfederal para la Negociación Colectiva 2003 (ANC 2003).\n",
            "   URL: https://www.boe.es../buscar/doc.php?id=BOE-A-2003-3826\n",
            "\n",
            "25. Ministerio de Trabajo y Economía Social (BOE 128 de 30/05/2022)\n",
            "   Resumen: Resolución de 17 de mayo de 2022, de la Dirección General de Trabajo, por la que se registra y publica el Acuerdo de modificación y prórroga del Convenio colectivo del grupo Cepsa.\n",
            "   URL: https://www.boe.es../buscar/doc.php?id=BOE-A-2022-8780\n",
            "\n",
            "26. Ministerio de Trabajo y Economía Social (BOE 183 de 01/08/2022)\n",
            "   Resumen: Resolución de 19 de julio de 2022, de la Dirección General de Trabajo, por la que se registra y publica el Acuerdo de modificación del II Convenio colectivo de Total España, SAU.\n",
            "   URL: https://www.boe.es../buscar/doc.php?id=BOE-A-2022-12892\n",
            "\n",
            "27. Ministerio de Trabajo y Economía Social (BOE 286 de 27/11/2024)\n",
            "   Resumen: Resolución de 19 de noviembre de 2024, de la Dirección General de Trabajo, por la que se registra y publica el I Convenio colectivo de Atos Major Events, SL.\n",
            "   URL: https://www.boe.es../buscar/doc.php?id=BOE-A-2024-24737\n",
            "\n",
            "28. Ministerio de Trabajo y Economía Social (BOE 259 de 30/10/2023)\n",
            "   Resumen: Resolución de 18 de octubre de 2023, de la Dirección General de Trabajo, por la que se registra y publica el Convenio colectivo de Michelín España Portugal, SA.\n",
            "   URL: https://www.boe.es../buscar/doc.php?id=BOE-A-2023-22201\n",
            "\n",
            "29. Ministerio de Trabajo y Economía Social (BOE 117 de 17/05/2022)\n",
            "   Resumen: Resolución de 3 de mayo de 2022, de la Dirección General de Trabajo, por la que se registra y publica el Convenio colectivo de Zucchetti Software Spain, SLU, para sus centros de trabajo en Derio, Donostia, Logroño y Ermua.\n",
            "   URL: https://www.boe.es../buscar/doc.php?id=BOE-A-2022-8111\n",
            "\n",
            "30. Ministerio de Trabajo y Economía Social (BOE 172 de 17/07/2024)\n",
            "   Resumen: Resolución de 3 de julio de 2024, de la Dirección General de Trabajo, por la que se registra y publica el Convenio colectivo para los establecimientos financieros de crédito.\n",
            "   URL: https://www.boe.es../buscar/doc.php?id=BOE-A-2024-14717\n",
            "\n",
            "31. Ministerio de Trabajo y Economía Social (BOE 247 de 15/10/2021)\n",
            "   Resumen: Resolución de 5 de octubre de 2021, de la Dirección General de Trabajo, por la que se registra y publica el Convenio colectivo para los establecimientos financieros de crédito.\n",
            "   URL: https://www.boe.es../buscar/doc.php?id=BOE-A-2021-16788\n",
            "\n",
            "32. Ministerio de Trabajo y Economía Social (BOE 175 de 24/07/2023)\n",
            "   Resumen: Resolución de 13 de julio de 2023, de la Dirección General de Trabajo, por la que se registra y publica el Convenio colectivo para los establecimientos financieros de crédito.\n",
            "   URL: https://www.boe.es../buscar/doc.php?id=BOE-A-2023-17044\n",
            "\n",
            "33. Ministerio de Trabajo y Economía Social (BOE 311 de 28/12/2022)\n",
            "   Resumen: Resolución de 15 de diciembre de 2022, de la Dirección General de Trabajo, por la que se registra y publica el Convenio colectivo para los establecimientos financieros de crédito.\n",
            "   URL: https://www.boe.es../buscar/doc.php?id=BOE-A-2022-23016\n",
            "\n",
            "34. Ministerio de Trabajo y Economía Social (BOE 95 de 18/04/2024)\n",
            "   Resumen: Resolución de 5 de abril de 2024, de la Dirección General de Trabajo, por la que se registran y publican las tablas salariales definitivas del año 2023, las tablas iniciales de 2024 y la revisión de conceptos económicos del VII Convenio colectivo estatal para despachos de técnicos tributarios y asesores fiscales.\n",
            "   URL: https://www.boe.es../buscar/doc.php?id=BOE-A-2024-7783\n",
            "\n",
            "35. Ministerio de Empleo y Seguridad Social (BOE 127 de 25/05/2018)\n",
            "   Resumen: Resolución de 16 de mayo de 2018, de la Dirección General de Empleo, por la que se registra y publica el Plan de Igualdad de Fidelis Servicios Integrales, SLU.\n",
            "   URL: https://www.boe.es../buscar/doc.php?id=BOE-A-2018-6978\n",
            "\n",
            "36. Ministerio de Trabajo y Economía Social (BOE 207 de 27/08/2024)\n",
            "   Resumen: Resolución de 12 de agosto de 2024, de la Dirección General de Trabajo, por la que se registra y publica el Convenio colectivo de empresas vinculadas Bolsas y Mercados Españoles.\n",
            "   URL: https://www.boe.es../buscar/doc.php?id=BOE-A-2024-17358\n",
            "\n",
            "37. Ministerio de Empleo y Seguridad Social (BOE 156 de 01/07/2013)\n",
            "   Resumen: Resolución de 11 de junio de 2013, de la Dirección General de Empleo, por la que se registra y publica el II Convenio colectivo del Grupo ONO (Cableuropa, SAU y Tenaria, SA).\n",
            "   URL: https://www.boe.es../buscar/doc.php?id=BOE-A-2013-7150\n",
            "\n",
            "38. Ministerio de Trabajo y Economía Social (BOE 128 de 27/05/2024)\n",
            "   Resumen: Resolución de 16 de mayo de 2024, de la Dirección General de Trabajo, por la que se registra y publica el Convenio colectivo de Siemens Energy, SA.\n",
            "   URL: https://www.boe.es../buscar/doc.php?id=BOE-A-2024-10661\n",
            "\n",
            "39. Ministerio de Trabajo y Economía Social (BOE 255 de 25/10/2023)\n",
            "   Resumen: Resolución de 5 de octubre de 2023, de la Dirección General de Trabajo, por la que se registra y publica el IV Convenio colectivo de Dealz España, SLU.\n",
            "   URL: https://www.boe.es../buscar/doc.php?id=BOE-A-2023-21912\n",
            "\n",
            "40. Ministerio de Justicia (BOE 145 de 23/05/2020)\n",
            "   Resumen: Orden JUS/430/2020, de 22 de mayo, por la que se activa la Fase 2 del Plan de Desescalada para la Administración de Justicia ante el COVID-19.\n",
            "   URL: https://www.boe.es../buscar/doc.php?id=BOE-A-2020-5241\n",
            "\n",
            "41. Ministerio de Trabajo, Migraciones y Seguridad Social (BOE 76 de 29/03/2019)\n",
            "   Resumen: Resolución de 19 de marzo de 2019, de la Dirección General de Trabajo, por la que se registra y publica el Acta del acuerdo de modificación del Convenio colectivo de Marítima Dávila, SA, y sociedades vinculadas.\n",
            "   URL: https://www.boe.es../buscar/doc.php?id=BOE-A-2019-4626\n",
            "\n",
            "42. Ministerio de Empleo y Seguridad Social (BOE 198 de 17/08/2016)\n",
            "   Resumen: Resolución de 4 de agosto de 2016, de la Dirección General de Empleo, por la que se registra y publica el Convenio colectivo de Teleinformática y Comunicaciones, SAU.\n",
            "   URL: https://www.boe.es../buscar/doc.php?id=BOE-A-2016-7933\n",
            "\n",
            "43. Ministerio de Trabajo y Economía Social (BOE 180 de 26/07/2024)\n",
            "   Resumen: Resolución de 15 de julio de 2024, de la Dirección General de Trabajo, por la que se registra y publica el Convenio colectivo de las escuelas italianas en España.\n",
            "   URL: https://www.boe.es../buscar/doc.php?id=BOE-A-2024-15497\n",
            "\n",
            "44. Ministerio de Trabajo y Economía Social (BOE 223 de 17/09/2021)\n",
            "   Resumen: Resolución de 3 de septiembre de 2021, de la Dirección General de Trabajo, por la que se registra y publica el II Convenio colectivo de la Comisión Española de Ayuda al Refugiado.\n",
            "   URL: https://www.boe.es../buscar/doc.php?id=BOE-A-2021-15126\n",
            "\n",
            "45. Ministerio de Trabajo y Economía Social (BOE 277 de 20/11/2023)\n",
            "   Resumen: Resolución de 7 de noviembre de 2023, de la Dirección General de Trabajo, por la que se registra y publica la modificación del Convenio colectivo de Transcat, SL.\n",
            "   URL: https://www.boe.es../buscar/doc.php?id=BOE-A-2023-23515\n",
            "\n",
            "46. Ministerio de Trabajo y Economía Social (BOE 4 de 05/01/2023)\n",
            "   Resumen: Resolución de 16 de diciembre de 2022, de la Dirección General de Trabajo, por la que se registran y publican los Acuerdos de modificación y tablas salariales para los años 2022 y 2023 del Convenio colectivo de IQVIA Information, SA.\n",
            "   URL: https://www.boe.es../buscar/doc.php?id=BOE-A-2023-342\n",
            "\n",
            "47. Ministerio de Trabajo y Economía Social (BOE 211 de 03/09/2021)\n",
            "   Resumen: Resolución de 19 de agosto de 2021, de la Dirección General de Trabajo, por la que se registra y publica el Acuerdo de modificación y tablas salariales para los años 2021 y 2022 del Convenio colectivo de IQVIA Information, SA.\n",
            "   URL: https://www.boe.es../buscar/doc.php?id=BOE-A-2021-14507\n",
            "\n",
            "48. Ministerio de Trabajo y Economía Social (BOE 173 de 22/06/2020)\n",
            "   Resumen: Resolución de 11 de junio de 2020, de la Dirección General de Trabajo, por la que se registra y publica el Convenio colectivo de Teleinformática y Comunicaciones, SAU.\n",
            "   URL: https://www.boe.es../buscar/doc.php?id=BOE-A-2020-6569\n",
            "\n",
            "49. Ministerio de Trabajo e Inmigración (BOE 81 de 03/04/2010)\n",
            "   Resumen: Resolución de 10 de marzo de 2010, de la Dirección General de Trabajo, por la que se registra y publica el I Convenio colectivo de Cableuropa, SAU y Tenaria, S.A. (Grupo ONO).\n",
            "   URL: https://www.boe.es../buscar/doc.php?id=BOE-A-2010-5416\n",
            "\n",
            "50. Ministerio de Trabajo y Economía Social (BOE 148 de 19/06/2024)\n",
            "   Resumen: Resolución de 7 de junio de 2024, de la Dirección General de Trabajo, por la que se registra y publica el Convenio colectivo de Teleinformática y Comunicaciones SA.\n",
            "   URL: https://www.boe.es../buscar/doc.php?id=BOE-A-2024-12487\n",
            "\n"
          ]
        }
      ]
    },
    {
      "cell_type": "code",
      "source": [
        "import requests\n",
        "from bs4 import BeautifulSoup\n",
        "\n",
        "# URL del sitio web de 20 Minutos\n",
        "url = \"https://www.20minutos.es/\"\n",
        "\n",
        "# Hacer una solicitud GET\n",
        "respuesta = requests.get(url)\n",
        "\n",
        "# Verificar el estado de la solicitud\n",
        "if respuesta.status_code == 200:\n",
        "    # Analizar el HTML con BeautifulSoup\n",
        "    soup = BeautifulSoup(respuesta.content, \"html.parser\")\n",
        "\n",
        "    # Buscar titulares en el sitio (ajustar según la estructura actual)\n",
        "    titulares = soup.find_all(\"h2\")  # Ejemplo con etiquetas <h2>\n",
        "\n",
        "    print(\"Titulares encontrados:\")\n",
        "    for i, titular in enumerate(titulares[:10], 1):  # Limitar a los primeros 10 titulares\n",
        "        print(f\"{i}. {titular.get_text(strip=True)}\")\n",
        "else:\n",
        "    print(f\"Error al acceder al sitio. Código de estado: {respuesta.status_code}\")\n"
      ],
      "metadata": {
        "colab": {
          "base_uri": "https://localhost:8080/"
        },
        "id": "e_1EAjuNQhRZ",
        "outputId": "dc584f12-61fc-458b-a953-5576a53d524d"
      },
      "execution_count": null,
      "outputs": [
        {
          "output_type": "stream",
          "name": "stdout",
          "text": [
            "Titulares encontrados:\n",
            "1. Nacional\n",
            "2. Internacional\n",
            "3. Deportes\n",
            "4. Opinión\n",
            "5. Tele\n",
            "6. Gente\n",
            "7. Motor\n",
            "8. 20bits\n",
            "9. Ed. Impresa\n"
          ]
        }
      ]
    },
    {
      "cell_type": "markdown",
      "source": [
        "##SCRAPY"
      ],
      "metadata": {
        "id": "S8WZn2MFJJ1Q"
      }
    },
    {
      "cell_type": "code",
      "source": [
        "!pip install scrapy\n"
      ],
      "metadata": {
        "colab": {
          "base_uri": "https://localhost:8080/"
        },
        "id": "wLxnUobqJM7o",
        "outputId": "f95b1f9d-11c8-42a5-9c74-a20eb3dbb9dc"
      },
      "execution_count": null,
      "outputs": [
        {
          "output_type": "stream",
          "name": "stdout",
          "text": [
            "Collecting scrapy\n",
            "  Downloading Scrapy-2.12.0-py2.py3-none-any.whl.metadata (5.3 kB)\n",
            "Collecting Twisted>=21.7.0 (from scrapy)\n",
            "  Downloading twisted-24.11.0-py3-none-any.whl.metadata (20 kB)\n",
            "Requirement already satisfied: cryptography>=37.0.0 in /usr/local/lib/python3.11/dist-packages (from scrapy) (43.0.3)\n",
            "Collecting cssselect>=0.9.1 (from scrapy)\n",
            "  Downloading cssselect-1.2.0-py2.py3-none-any.whl.metadata (2.2 kB)\n",
            "Collecting itemloaders>=1.0.1 (from scrapy)\n",
            "  Downloading itemloaders-1.3.2-py3-none-any.whl.metadata (3.9 kB)\n",
            "Collecting parsel>=1.5.0 (from scrapy)\n",
            "  Downloading parsel-1.9.1-py2.py3-none-any.whl.metadata (11 kB)\n",
            "Requirement already satisfied: pyOpenSSL>=22.0.0 in /usr/local/lib/python3.11/dist-packages (from scrapy) (24.2.1)\n",
            "Collecting queuelib>=1.4.2 (from scrapy)\n",
            "  Downloading queuelib-1.7.0-py2.py3-none-any.whl.metadata (5.7 kB)\n",
            "Collecting service-identity>=18.1.0 (from scrapy)\n",
            "  Downloading service_identity-24.2.0-py3-none-any.whl.metadata (5.1 kB)\n",
            "Collecting w3lib>=1.17.0 (from scrapy)\n",
            "  Downloading w3lib-2.2.1-py3-none-any.whl.metadata (2.1 kB)\n",
            "Collecting zope.interface>=5.1.0 (from scrapy)\n",
            "  Downloading zope.interface-7.2-cp311-cp311-manylinux_2_5_x86_64.manylinux1_x86_64.manylinux_2_17_x86_64.manylinux2014_x86_64.whl.metadata (44 kB)\n",
            "\u001b[2K     \u001b[90m━━━━━━━━━━━━━━━━━━━━━━━━━━━━━━━━━━━━━━━━\u001b[0m \u001b[32m44.4/44.4 kB\u001b[0m \u001b[31m3.3 MB/s\u001b[0m eta \u001b[36m0:00:00\u001b[0m\n",
            "\u001b[?25hCollecting protego>=0.1.15 (from scrapy)\n",
            "  Downloading Protego-0.3.1-py2.py3-none-any.whl.metadata (5.9 kB)\n",
            "Collecting itemadapter>=0.1.0 (from scrapy)\n",
            "  Downloading itemadapter-0.10.0-py3-none-any.whl.metadata (18 kB)\n",
            "Requirement already satisfied: packaging in /usr/local/lib/python3.11/dist-packages (from scrapy) (24.2)\n",
            "Collecting tldextract (from scrapy)\n",
            "  Downloading tldextract-5.1.3-py3-none-any.whl.metadata (11 kB)\n",
            "Requirement already satisfied: lxml>=4.6.0 in /usr/local/lib/python3.11/dist-packages (from scrapy) (5.3.0)\n",
            "Requirement already satisfied: defusedxml>=0.7.1 in /usr/local/lib/python3.11/dist-packages (from scrapy) (0.7.1)\n",
            "Collecting PyDispatcher>=2.0.5 (from scrapy)\n",
            "  Downloading PyDispatcher-2.0.7-py3-none-any.whl.metadata (2.4 kB)\n",
            "Requirement already satisfied: cffi>=1.12 in /usr/local/lib/python3.11/dist-packages (from cryptography>=37.0.0->scrapy) (1.17.1)\n",
            "Collecting jmespath>=0.9.5 (from itemloaders>=1.0.1->scrapy)\n",
            "  Downloading jmespath-1.0.1-py3-none-any.whl.metadata (7.6 kB)\n",
            "Requirement already satisfied: attrs>=19.1.0 in /usr/local/lib/python3.11/dist-packages (from service-identity>=18.1.0->scrapy) (24.3.0)\n",
            "Requirement already satisfied: pyasn1 in /usr/local/lib/python3.11/dist-packages (from service-identity>=18.1.0->scrapy) (0.6.1)\n",
            "Requirement already satisfied: pyasn1-modules in /usr/local/lib/python3.11/dist-packages (from service-identity>=18.1.0->scrapy) (0.4.1)\n",
            "Collecting automat>=24.8.0 (from Twisted>=21.7.0->scrapy)\n",
            "  Downloading Automat-24.8.1-py3-none-any.whl.metadata (8.4 kB)\n",
            "Collecting constantly>=15.1 (from Twisted>=21.7.0->scrapy)\n",
            "  Downloading constantly-23.10.4-py3-none-any.whl.metadata (1.8 kB)\n",
            "Collecting hyperlink>=17.1.1 (from Twisted>=21.7.0->scrapy)\n",
            "  Downloading hyperlink-21.0.0-py2.py3-none-any.whl.metadata (1.5 kB)\n",
            "Collecting incremental>=24.7.0 (from Twisted>=21.7.0->scrapy)\n",
            "  Downloading incremental-24.7.2-py3-none-any.whl.metadata (8.1 kB)\n",
            "Requirement already satisfied: typing-extensions>=4.2.0 in /usr/local/lib/python3.11/dist-packages (from Twisted>=21.7.0->scrapy) (4.12.2)\n",
            "Requirement already satisfied: setuptools in /usr/local/lib/python3.11/dist-packages (from zope.interface>=5.1.0->scrapy) (75.1.0)\n",
            "Requirement already satisfied: idna in /usr/local/lib/python3.11/dist-packages (from tldextract->scrapy) (3.10)\n",
            "Requirement already satisfied: requests>=2.1.0 in /usr/local/lib/python3.11/dist-packages (from tldextract->scrapy) (2.32.3)\n",
            "Collecting requests-file>=1.4 (from tldextract->scrapy)\n",
            "  Downloading requests_file-2.1.0-py2.py3-none-any.whl.metadata (1.7 kB)\n",
            "Requirement already satisfied: filelock>=3.0.8 in /usr/local/lib/python3.11/dist-packages (from tldextract->scrapy) (3.16.1)\n",
            "Requirement already satisfied: pycparser in /usr/local/lib/python3.11/dist-packages (from cffi>=1.12->cryptography>=37.0.0->scrapy) (2.22)\n",
            "Requirement already satisfied: charset-normalizer<4,>=2 in /usr/local/lib/python3.11/dist-packages (from requests>=2.1.0->tldextract->scrapy) (3.4.1)\n",
            "Requirement already satisfied: urllib3<3,>=1.21.1 in /usr/local/lib/python3.11/dist-packages (from requests>=2.1.0->tldextract->scrapy) (2.3.0)\n",
            "Requirement already satisfied: certifi>=2017.4.17 in /usr/local/lib/python3.11/dist-packages (from requests>=2.1.0->tldextract->scrapy) (2024.12.14)\n",
            "Downloading Scrapy-2.12.0-py2.py3-none-any.whl (311 kB)\n",
            "\u001b[2K   \u001b[90m━━━━━━━━━━━━━━━━━━━━━━━━━━━━━━━━━━━━━━━━\u001b[0m \u001b[32m311.2/311.2 kB\u001b[0m \u001b[31m22.0 MB/s\u001b[0m eta \u001b[36m0:00:00\u001b[0m\n",
            "\u001b[?25hDownloading cssselect-1.2.0-py2.py3-none-any.whl (18 kB)\n",
            "Downloading itemadapter-0.10.0-py3-none-any.whl (11 kB)\n",
            "Downloading itemloaders-1.3.2-py3-none-any.whl (12 kB)\n",
            "Downloading parsel-1.9.1-py2.py3-none-any.whl (17 kB)\n",
            "Downloading Protego-0.3.1-py2.py3-none-any.whl (8.5 kB)\n",
            "Downloading PyDispatcher-2.0.7-py3-none-any.whl (12 kB)\n",
            "Downloading queuelib-1.7.0-py2.py3-none-any.whl (13 kB)\n",
            "Downloading service_identity-24.2.0-py3-none-any.whl (11 kB)\n",
            "Downloading twisted-24.11.0-py3-none-any.whl (3.2 MB)\n",
            "\u001b[2K   \u001b[90m━━━━━━━━━━━━━━━━━━━━━━━━━━━━━━━━━━━━━━━━\u001b[0m \u001b[32m3.2/3.2 MB\u001b[0m \u001b[31m80.0 MB/s\u001b[0m eta \u001b[36m0:00:00\u001b[0m\n",
            "\u001b[?25hDownloading w3lib-2.2.1-py3-none-any.whl (21 kB)\n",
            "Downloading zope.interface-7.2-cp311-cp311-manylinux_2_5_x86_64.manylinux1_x86_64.manylinux_2_17_x86_64.manylinux2014_x86_64.whl (259 kB)\n",
            "\u001b[2K   \u001b[90m━━━━━━━━━━━━━━━━━━━━━━━━━━━━━━━━━━━━━━━━\u001b[0m \u001b[32m259.8/259.8 kB\u001b[0m \u001b[31m18.2 MB/s\u001b[0m eta \u001b[36m0:00:00\u001b[0m\n",
            "\u001b[?25hDownloading tldextract-5.1.3-py3-none-any.whl (104 kB)\n",
            "\u001b[2K   \u001b[90m━━━━━━━━━━━━━━━━━━━━━━━━━━━━━━━━━━━━━━━━\u001b[0m \u001b[32m104.9/104.9 kB\u001b[0m \u001b[31m8.4 MB/s\u001b[0m eta \u001b[36m0:00:00\u001b[0m\n",
            "\u001b[?25hDownloading Automat-24.8.1-py3-none-any.whl (42 kB)\n",
            "\u001b[2K   \u001b[90m━━━━━━━━━━━━━━━━━━━━━━━━━━━━━━━━━━━━━━━━\u001b[0m \u001b[32m42.6/42.6 kB\u001b[0m \u001b[31m3.6 MB/s\u001b[0m eta \u001b[36m0:00:00\u001b[0m\n",
            "\u001b[?25hDownloading constantly-23.10.4-py3-none-any.whl (13 kB)\n",
            "Downloading hyperlink-21.0.0-py2.py3-none-any.whl (74 kB)\n",
            "\u001b[2K   \u001b[90m━━━━━━━━━━━━━━━━━━━━━━━━━━━━━━━━━━━━━━━━\u001b[0m \u001b[32m74.6/74.6 kB\u001b[0m \u001b[31m6.8 MB/s\u001b[0m eta \u001b[36m0:00:00\u001b[0m\n",
            "\u001b[?25hDownloading incremental-24.7.2-py3-none-any.whl (20 kB)\n",
            "Downloading jmespath-1.0.1-py3-none-any.whl (20 kB)\n",
            "Downloading requests_file-2.1.0-py2.py3-none-any.whl (4.2 kB)\n",
            "Installing collected packages: PyDispatcher, zope.interface, w3lib, queuelib, protego, jmespath, itemadapter, incremental, hyperlink, cssselect, constantly, automat, Twisted, requests-file, parsel, tldextract, service-identity, itemloaders, scrapy\n",
            "Successfully installed PyDispatcher-2.0.7 Twisted-24.11.0 automat-24.8.1 constantly-23.10.4 cssselect-1.2.0 hyperlink-21.0.0 incremental-24.7.2 itemadapter-0.10.0 itemloaders-1.3.2 jmespath-1.0.1 parsel-1.9.1 protego-0.3.1 queuelib-1.7.0 requests-file-2.1.0 scrapy-2.12.0 service-identity-24.2.0 tldextract-5.1.3 w3lib-2.2.1 zope.interface-7.2\n"
          ]
        }
      ]
    },
    {
      "cell_type": "code",
      "source": [
        "# Crear un archivo llamado scrapy_script.py\n",
        "with open(\"scrapy_script.py\", \"w\") as file:\n",
        "    file.write(\"\"\"\n",
        "import scrapy\n",
        "\n",
        "class NoticiasSpider(scrapy.Spider):\n",
        "    name = \"noticias\"\n",
        "    start_urls = [\"https://www.20minutos.es/\"]\n",
        "\n",
        "    def parse(self, response):\n",
        "        # Extraer titulares (ajustar selector según la estructura real)\n",
        "        for titular in response.css(\"h2\"):\n",
        "            yield {\n",
        "                \"titulo\": titular.css(\"::text\").get(),\n",
        "                \"enlace\": titular.css(\"a::attr(href)\").get(),\n",
        "            }\n",
        "    \"\"\")\n"
      ],
      "metadata": {
        "id": "d17vQP9OJawR"
      },
      "execution_count": null,
      "outputs": []
    },
    {
      "cell_type": "code",
      "source": [
        "!scrapy runspider scrapy_script.py -o noticias.json"
      ],
      "metadata": {
        "colab": {
          "base_uri": "https://localhost:8080/"
        },
        "id": "g6_SLUAFJd5p",
        "outputId": "eeb247d1-b36e-4d7d-b54f-f031891303f3"
      },
      "execution_count": null,
      "outputs": [
        {
          "output_type": "stream",
          "name": "stdout",
          "text": [
            "2025-01-16 13:27:35 [scrapy.utils.log] INFO: Scrapy 2.12.0 started (bot: scrapybot)\n",
            "2025-01-16 13:27:35 [scrapy.utils.log] INFO: Versions: lxml 5.3.0.0, libxml2 2.12.9, cssselect 1.2.0, parsel 1.9.1, w3lib 2.2.1, Twisted 24.11.0, Python 3.11.11 (main, Dec  4 2024, 08:55:07) [GCC 11.4.0], pyOpenSSL 24.2.1 (OpenSSL 3.3.2 3 Sep 2024), cryptography 43.0.3, Platform Linux-6.1.85+-x86_64-with-glibc2.35\n",
            "Usage\n",
            "=====\n",
            "  scrapy runspider [options] <spider_file>\n",
            "\n",
            "Run the spider defined in the given file\n",
            "\n",
            "Options\n",
            "=======\n",
            "  -h, --help            show this help message and exit\n",
            "  -a NAME=VALUE         set spider argument (may be repeated)\n",
            "  -o FILE, --output FILE\n",
            "                        append scraped items to the end of FILE (use - for stdout), to define\n",
            "                        format set a colon at the end of the output URI (i.e. -o FILE:FORMAT)\n",
            "  -O FILE, --overwrite-output FILE\n",
            "                        dump scraped items into FILE, overwriting any existing file, to define\n",
            "                        format set a colon at the end of the output URI (i.e. -O FILE:FORMAT)\n",
            "\n",
            "Global Options\n",
            "--------------\n",
            "  --logfile FILE        log file. if omitted stderr will be used\n",
            "  -L LEVEL, --loglevel LEVEL\n",
            "                        log level (default: DEBUG)\n",
            "  --nolog               disable logging completely\n",
            "  --profile FILE        write python cProfile stats to FILE\n",
            "  --pidfile FILE        write process ID to FILE\n",
            "  -s NAME=VALUE, --set NAME=VALUE\n",
            "                        set/override setting (may be repeated)\n",
            "  --pdb                 enable pdb on failure\n"
          ]
        }
      ]
    },
    {
      "cell_type": "code",
      "source": [
        "import json\n",
        "\n",
        "# Cargar el archivo JSON generado\n",
        "with open(\"noticias.json\", \"r\") as file:\n",
        "    noticias = file.read()\n",
        "    noticias= noticias.replace(\"][\", \"\").strip()\n",
        "    noticias = json.loads(noticias)\n",
        "\n",
        "# Mostrar las primeras noticias\n",
        "print(\"Noticias extraídas:\")\n",
        "for noticia in noticias[:5]:  # Mostrar las primeras 5 noticias\n",
        "    print(f\"Título: {noticia['titulo']}\")\n",
        "    print(f\"Enlace: {noticia['enlace']}\\n\")\n",
        "print(noticias)"
      ],
      "metadata": {
        "colab": {
          "base_uri": "https://localhost:8080/"
        },
        "id": "MY5lWoPfPfKR",
        "outputId": "fae59e1f-6cde-4f2b-91c2-88c557a23005"
      },
      "execution_count": null,
      "outputs": [
        {
          "output_type": "stream",
          "name": "stdout",
          "text": [
            "Noticias extraídas:\n",
            "Título: Nacional\n",
            "Enlace: https://www.20minutos.es/nacional/\n",
            "\n",
            "Título: Internacional\n",
            "Enlace: https://www.20minutos.es/internacional/\n",
            "\n",
            "Título: Deportes\n",
            "Enlace: https://www.20minutos.es/deportes/\n",
            "\n",
            "Título: Opinión\n",
            "Enlace: https://www.20minutos.es/minuteca/opinion/\n",
            "\n",
            "Título: Tele\n",
            "Enlace: https://www.20minutos.es/television/\n",
            "\n",
            "[{'titulo': 'Nacional', 'enlace': 'https://www.20minutos.es/nacional/'}, {'titulo': 'Internacional', 'enlace': 'https://www.20minutos.es/internacional/'}, {'titulo': 'Deportes', 'enlace': 'https://www.20minutos.es/deportes/'}, {'titulo': 'Opinión', 'enlace': 'https://www.20minutos.es/minuteca/opinion/'}, {'titulo': 'Tele', 'enlace': 'https://www.20minutos.es/television/'}, {'titulo': 'Gente', 'enlace': 'https://www.20minutos.es/gente/'}, {'titulo': 'Motor', 'enlace': 'https://www.20minutos.es/motor/'}, {'titulo': '20bits', 'enlace': 'https://www.20minutos.es/tecnologia/'}, {'titulo': 'Ed. Impresa', 'enlace': 'https://www.20minutos.es/edicion_impresa/'}]\n"
          ]
        }
      ]
    },
    {
      "cell_type": "markdown",
      "source": [
        "##SELENIUM"
      ],
      "metadata": {
        "id": "4k5HfgP-N9hA"
      }
    },
    {
      "cell_type": "code",
      "source": [
        "!pip install selenium\n",
        "!apt-get update\n",
        "!apt install chromium-chromedriver\n"
      ],
      "metadata": {
        "colab": {
          "base_uri": "https://localhost:8080/"
        },
        "id": "vfw3X4EuN_aR",
        "outputId": "38107742-ae6e-468b-9806-df03692b5fee"
      },
      "execution_count": null,
      "outputs": [
        {
          "output_type": "stream",
          "name": "stdout",
          "text": [
            "Processing triggers for man-db (2.10.2-1) ...\n",
            "Processing triggers for dbus (1.12.20-2ubuntu4.1) ...\n"
          ]
        }
      ]
    },
    {
      "cell_type": "code",
      "source": [
        "from selenium import webdriver\n",
        "from selenium.webdriver.common.by import By\n",
        "from selenium.webdriver.chrome.service import Service\n",
        "\n",
        "# Configuración para Colab\n",
        "options = webdriver.ChromeOptions()\n",
        "options.add_argument(\"--headless\")\n",
        "options.add_argument(\"--no-sandbox\")\n",
        "options.add_argument(\"--disable-dev-shm-usage\")\n",
        "\n",
        "driver = webdriver.Chrome(options=options)\n",
        "\n",
        "# Abrir un sitio web de ejemplo\n",
        "url = \"https://www.20minutos.es/\"\n",
        "driver.get(url)\n",
        "\n",
        "# Extraer datos dinámicos (por ejemplo, enlaces en <a>)\n",
        "enlaces = driver.find_elements(By.TAG_NAME, \"h2\")\n",
        "for enlace in enlaces[:5]:  # Mostrar los primeros 5\n",
        "    print(enlace.text, enlace.get_attribute(\"href\"))\n",
        "\n",
        "# Cerrar el navegador\n",
        "driver.quit()\n"
      ],
      "metadata": {
        "colab": {
          "base_uri": "https://localhost:8080/"
        },
        "id": "I3QQYzugOAob",
        "outputId": "2830ec3a-ff3a-420a-f6c5-b7a6e43f9c0e"
      },
      "execution_count": null,
      "outputs": [
        {
          "output_type": "stream",
          "name": "stdout",
          "text": [
            "NACIONAL None\n",
            "INTERNACIONAL None\n",
            "DEPORTES None\n",
            "OPINIÓN None\n",
            "TELE None\n"
          ]
        }
      ]
    },
    {
      "cell_type": "markdown",
      "source": [
        "#APIS PARA INFORMACIÓN EN TIEMPO REAL.\n"
      ],
      "metadata": {
        "id": "uLH1tPxJsqc4"
      }
    },
    {
      "cell_type": "markdown",
      "source": [
        "##WIKIPEDIA"
      ],
      "metadata": {
        "id": "eTsLo_s7swbI"
      }
    },
    {
      "cell_type": "code",
      "source": [
        "!pip install wikipedia-api"
      ],
      "metadata": {
        "id": "GtoXxM4LgzFO",
        "outputId": "f929e8e9-3d56-4136-e0be-db27d1240ff0",
        "colab": {
          "base_uri": "https://localhost:8080/"
        }
      },
      "execution_count": null,
      "outputs": [
        {
          "output_type": "stream",
          "name": "stdout",
          "text": [
            "Collecting wikipedia\n",
            "  Downloading wikipedia-1.4.0.tar.gz (27 kB)\n",
            "  Preparing metadata (setup.py) ... \u001b[?25l\u001b[?25hdone\n",
            "Requirement already satisfied: beautifulsoup4 in /usr/local/lib/python3.10/dist-packages (from wikipedia) (4.12.3)\n",
            "Requirement already satisfied: requests<3.0.0,>=2.0.0 in /usr/local/lib/python3.10/dist-packages (from wikipedia) (2.32.3)\n",
            "Requirement already satisfied: charset-normalizer<4,>=2 in /usr/local/lib/python3.10/dist-packages (from requests<3.0.0,>=2.0.0->wikipedia) (3.4.0)\n",
            "Requirement already satisfied: idna<4,>=2.5 in /usr/local/lib/python3.10/dist-packages (from requests<3.0.0,>=2.0.0->wikipedia) (3.10)\n",
            "Requirement already satisfied: urllib3<3,>=1.21.1 in /usr/local/lib/python3.10/dist-packages (from requests<3.0.0,>=2.0.0->wikipedia) (2.2.3)\n",
            "Requirement already satisfied: certifi>=2017.4.17 in /usr/local/lib/python3.10/dist-packages (from requests<3.0.0,>=2.0.0->wikipedia) (2024.12.14)\n",
            "Requirement already satisfied: soupsieve>1.2 in /usr/local/lib/python3.10/dist-packages (from beautifulsoup4->wikipedia) (2.6)\n",
            "Building wheels for collected packages: wikipedia\n",
            "  Building wheel for wikipedia (setup.py) ... \u001b[?25l\u001b[?25hdone\n",
            "  Created wheel for wikipedia: filename=wikipedia-1.4.0-py3-none-any.whl size=11679 sha256=289662ff00e6302495a9b44b6aa67d6a711de35b0ef4214f8e380684f9e75633\n",
            "  Stored in directory: /root/.cache/pip/wheels/5e/b6/c5/93f3dec388ae76edc830cb42901bb0232504dfc0df02fc50de\n",
            "Successfully built wikipedia\n",
            "Installing collected packages: wikipedia\n",
            "Successfully installed wikipedia-1.4.0\n"
          ]
        }
      ]
    },
    {
      "cell_type": "code",
      "source": [
        "import json\n",
        "\n",
        "# Cargar un archivo JSON con interacciones\n",
        "with open(\"transcripciones.json\", \"r\") as file:\n",
        "    datos = json.load(file)\n",
        "\n",
        "# Mostrar los primeros ejemplos\n",
        "for interaccion in datos[:5]:\n",
        "    print(f\"Cliente: {interaccion['cliente']}\")\n",
        "    print(f\"Agente: {interaccion['agente']}\\n\")\n",
        "import pandas as pd\n",
        "\n",
        "# Leer un archivo CSV con preguntas frecuentes\n",
        "df_faqs = pd.read_csv(\"faqs.csv\")\n",
        "\n",
        "# Explorar el contenido\n",
        "print(df_faqs.head())\n",
        "\n",
        "# Acceso a una pregunta específica\n",
        "pregunta = \"¿Cómo cambio mi contraseña?\"\n",
        "respuesta = df_faqs.loc[df_faqs[\"Pregunta\"] == pregunta, \"Respuesta\"].values[0]\n",
        "print(f\"Respuesta: {respuesta}\")\n",
        "# Archivo de texto con diálogos simulados\n",
        "with open(\"dialogos.txt\", \"r\") as file:\n",
        "    dialogos = file.readlines()\n",
        "\n",
        "# Mostrar ejemplos\n",
        "for i, linea in enumerate(dialogos[:10]):\n",
        "    print(f\"Diálogo {i+1}: {linea.strip()}\")\n",
        "\n"
      ],
      "metadata": {
        "id": "pXLWdGQNlKu8"
      },
      "execution_count": null,
      "outputs": []
    },
    {
      "cell_type": "code",
      "source": [
        "import wikipediaapi\n",
        "\n",
        "# Configurar Wikipedia en español\n",
        "wiki = wikipediaapi.Wikipedia(\n",
        "    language='es',\n",
        "    user_agent=\"myWikipediaBot/1.0 (https://mi-sitio-ejemplo.com)\"\n",
        ")\n",
        "\n",
        "def buscar_wikipedia(tema):\n",
        "    pagina = wiki.page(tema)\n",
        "    if pagina.exists():\n",
        "        return f\"Resumen: {pagina.summary[:500]}...\"\n",
        "    else:\n",
        "        return \"No se encontró información sobre este tema.\"\n",
        "\n",
        "# Ejemplo de búsqueda\n",
        "tema = \"Inteligencia artificial\"\n",
        "print(buscar_wikipedia(tema))\n"
      ],
      "metadata": {
        "id": "dJMEa3Bnn1rB",
        "outputId": "a645f050-37c2-4935-c27c-f43018083928",
        "colab": {
          "base_uri": "https://localhost:8080/"
        }
      },
      "execution_count": null,
      "outputs": [
        {
          "output_type": "stream",
          "name": "stdout",
          "text": [
            "Resumen: La inteligencia artificial (IA), en el contexto de las ciencias de la computación, es una disciplina y un conjunto de capacidades cognoscitivas e intelectuales expresadas por sistemas informáticos o combinaciones de algoritmos cuyo propósito es la creación de máquinas que imiten la inteligencia humana para realizar tareas, y que pueden mejorar conforme recopilen información.[1]​[2]​ Se hizo presente poco después de la Segunda Guerra Mundial con el desarrollo de la «prueba de Turing», mientras qu...\n"
          ]
        }
      ]
    },
    {
      "cell_type": "markdown",
      "source": [
        "##API DE CLIMATOLOGÍA (OPENWEATHERMAP): https://openweathermap.org/"
      ],
      "metadata": {
        "id": "0p89gopms013"
      }
    },
    {
      "cell_type": "code",
      "source": [
        "import requests\n",
        "\n",
        "def obtener_clima(ciudad):\n",
        "    api_key = \"a4607d221acd6a6d97cf632ed56b1120\"\n",
        "    url = f\"http://api.openweathermap.org/data/2.5/weather?q={ciudad}&appid={api_key}&lang=es\"\n",
        "    respuesta = requests.get(url).json()\n",
        "    if respuesta.get(\"main\"):\n",
        "        temperatura = respuesta[\"main\"][\"temp\"] - 273.15  # Convertir de Kelvin a Celsius\n",
        "        descripcion = respuesta[\"weather\"][0][\"description\"]\n",
        "        return f\"El clima en {ciudad} es {descripcion} con una temperatura de {temperatura:.2f}°C.\"\n",
        "    else:\n",
        "        return \"No se pudo obtener información sobre el clima.\"\n",
        "\n",
        "# Ejemplo\n",
        "print(obtener_clima(\"Madrid\"))\n"
      ],
      "metadata": {
        "id": "R2pMV2-dn7eO",
        "outputId": "6cf23218-ecf9-47ce-eee9-5fa725c4b8fd",
        "colab": {
          "base_uri": "https://localhost:8080/"
        }
      },
      "execution_count": null,
      "outputs": [
        {
          "output_type": "stream",
          "name": "stdout",
          "text": [
            "El clima en Madrid es cielo claro con una temperatura de 4.27°C.\n"
          ]
        }
      ]
    },
    {
      "cell_type": "code",
      "source": [
        "import requests\n",
        "\n",
        "# Configuración de la clave API y ciudad\n",
        "api_key = \"a4607d221acd6a6d97cf632ed56b1120\"\n",
        "ciudad = \"Madrid\"\n",
        "\n",
        "# Obtener latitud y longitud con la API de Geocoding\n",
        "url_geo = f\"http://api.openweathermap.org/geo/1.0/direct?q={ciudad}&limit=1&appid={api_key}\"\n",
        "respuesta_geo = requests.get(url_geo)\n",
        "datos_geo = respuesta_geo.json()\n",
        "\n",
        "if respuesta_geo.status_code == 200 and len(datos_geo) > 0:\n",
        "    lat = datos_geo[0]['lat']\n",
        "    lon = datos_geo[0]['lon']\n",
        "    print(f\"Ciudad: {ciudad}\")\n",
        "    print(f\"Latitud: {lat}, Longitud: {lon}\")\n",
        "\n",
        "    # Consultar la calidad del aire con las coordenadas\n",
        "    url_air = f\"http://api.openweathermap.org/data/2.5/air_pollution?lat={lat}&lon={lon}&appid={api_key}\"\n",
        "    respuesta_air = requests.get(url_air)\n",
        "    datos_air = respuesta_air.json()\n",
        "\n",
        "    if respuesta_air.status_code == 200:\n",
        "        aqi = datos_air['list'][0]['main']['aqi']\n",
        "        componentes = datos_air['list'][0]['components']\n",
        "        print(f\"Índice de Calidad del Aire (AQI): {aqi}\")\n",
        "        print(\"Concentraciones de contaminantes (µg/m³):\")\n",
        "        for contaminante, valor in componentes.items():\n",
        "            print(f\"  {contaminante}: {valor}\")\n",
        "    else:\n",
        "        print(\"Error al obtener los datos de calidad del aire.\")\n",
        "else:\n",
        "    print(\"Error al obtener las coordenadas de la ciudad.\")\n",
        "\n"
      ],
      "metadata": {
        "id": "a4Z5KO35r6cn",
        "outputId": "aa81e6aa-fc91-4bc6-dcd8-0a5b449baecd",
        "colab": {
          "base_uri": "https://localhost:8080/"
        }
      },
      "execution_count": null,
      "outputs": [
        {
          "output_type": "stream",
          "name": "stdout",
          "text": [
            "Ciudad: Madrid\n",
            "Latitud: 40.4167047, Longitud: -3.7035825\n",
            "Índice de Calidad del Aire (AQI): 3\n",
            "Concentraciones de contaminantes (µg/m³):\n",
            "  co: 947.95\n",
            "  no: 57.22\n",
            "  no2: 53.47\n",
            "  o3: 17.7\n",
            "  so2: 10.49\n",
            "  pm2_5: 34.49\n",
            "  pm10: 40.96\n",
            "  nh3: 12.54\n"
          ]
        }
      ]
    },
    {
      "cell_type": "markdown",
      "source": [
        "##NOTICIAS"
      ],
      "metadata": {
        "id": "qOFJJVZHzDMQ"
      }
    },
    {
      "cell_type": "markdown",
      "source": [
        "https://newsapi.org/docs/endpoints"
      ],
      "metadata": {
        "id": "8h258BarLCjr"
      }
    },
    {
      "cell_type": "markdown",
      "source": [
        "Buscar Noticias por Palabras Clave"
      ],
      "metadata": {
        "id": "UnnXu2-AKFb7"
      }
    },
    {
      "cell_type": "code",
      "source": [
        "import requests\n",
        "\n",
        "# Configuración\n",
        "api_key = \"2af1f7a971a24f518df05998f154b98a\"\n",
        "query = \"extremadura\"\n",
        "lengua = \"es\"\n",
        "url = f\"https://newsapi.org/v2/everything?q={query}&sortBy=relevance&language={lengua}&apiKey={api_key}\"\n",
        "\n",
        "# Realizar la solicitud\n",
        "respuesta = requests.get(url)\n",
        "datos = respuesta.json()\n",
        "\n",
        "# Procesar los resultados\n",
        "if datos.get(\"status\") == \"ok\":\n",
        "    print(f\"Resultados para '{query}':\")\n",
        "    for articulo in datos[\"articles\"][:5]:  # Mostrar los primeros 5 resultados\n",
        "        print(f\"- {articulo['title']}\")\n",
        "        print(f\"  Fecha: {articulo['publishedAt']}\")\n",
        "        print(f\"  Fuente: {articulo['source']['name']}\")\n",
        "        print(f\"  Descripción: {articulo['description']}\")\n",
        "        print(f\"  Link: {articulo['url']}\\n\")\n",
        "else:\n",
        "    print(\"Error al buscar noticias.\")\n"
      ],
      "metadata": {
        "colab": {
          "base_uri": "https://localhost:8080/"
        },
        "id": "BC--ruyiHsp0",
        "outputId": "efea8feb-9975-4da5-d287-c364de85e045"
      },
      "execution_count": null,
      "outputs": [
        {
          "output_type": "stream",
          "name": "stdout",
          "text": [
            "Resultados para 'extremadura':\n",
            "- Calendario laboral de 2025 en España: qué días habrá festivos y puentes en cada comunidad autónoma\n",
            "  Fecha: 2025-01-02T13:40:03Z\n",
            "  Fuente: Genbeta.com\n",
            "  Descripción: Ha llegado un nuevo año a nuestras vidas y, como es habitual, hace unos días, el BOE publicaba los festivos correspondientes al año 2025. En España, el calendario laboral de cada trabajador tiene que tener un total de 14 festivos y esto varía según las comuni…\n",
            "  Link: https://www.genbeta.com/a-fondo/calendario-laboral-2025-espana-que-dias-habra-festivos-puentes-cada-comunidad-autonoma\n",
            "\n",
            "- Desde hace años, los científicos están tratando de entender por qué las sequías tienen un impacto tan distinto. Empezamos a tener la clave\n",
            "  Fecha: 2024-12-16T13:31:31Z\n",
            "  Fuente: Xataka.com\n",
            "  Descripción: \"Las sequías meteorológicas no han mostrado cambios sustanciales a escala global en, al menos, los últimos 120 años\". En 2022, mientras elaboraban proyecciones sobre las sequía en el antropoceno, un equipo de investigación franco-español llegó a esta conclusi…\n",
            "  Link: https://www.xataka.com/ecologia-y-naturaleza/hace-anos-cientificos-estan-tratando-entender-que-sequias-tienen-impacto-distinto-empezamos-a-tener-clave\n",
            "\n",
            "- Telefónica mejora el servicio 112 de Extremadura con su tecnología 5G+\n",
            "  Fecha: 2024-12-19T14:08:02Z\n",
            "  Fuente: La Vanguardia\n",
            "  Descripción: Telefónica ha lanzado un servicio piloto en colaboración con 112 Extremadura para mejorar las comunicaciones de emergencias. Según ha revelado la compañía mediante una nota de prensa, lo ha hecho mediante tecnologías 5G+ de última generación, como son el Netw…\n",
            "  Link: https://www.lavanguardia.com/andro4all/operadoras/telefonica-mejora-el-servicio-112-de-extremadura-con-su-tecnologia-5g\n",
            "\n",
            "- El debate entre los dos candidatos en las primarias del PSOE de Extremadura, lleno de reproches, deja el ganador en el aire\n",
            "  Fecha: 2025-01-03T13:50:16Z\n",
            "  Fuente: El Mundo\n",
            "  Descripción: El único debate entre los dos candidatos (Miguel Ángel Gallardo y Esther Gutiérrez) a la Secretaría General del PSOE de Extremadura que se ha celebrado este viernes no dejó un...\n",
            "  Link: https://www.elmundo.es/espana/extremadura/2025/01/03/6777e604e85ece416e8b456d.html\n",
            "\n",
            "- Burbujas sin etiqueta: 5 espumosos diferentes para brindar en Nochevieja\n",
            "  Fecha: 2024-12-30T09:00:36Z\n",
            "  Fuente: El Mundo\n",
            "  Descripción: El cava no es el único vino espumoso que se elabora dentro de nuestras fronteras. Los hay más allá de Cataluña, de Extremadura y de La Rioja. Este Fin de Año, atrévete a descorchar lo inesperado. Leer\n",
            "  Link: https://www.elmundo.es/metropoli/elmundovino/2024/12/30/676d5d8afc6c8353548b4599.html\n",
            "\n"
          ]
        }
      ]
    },
    {
      "cell_type": "markdown",
      "source": [
        "###Noticias de Fuentes Específicas"
      ],
      "metadata": {
        "id": "baSHcr8DJ_v8"
      }
    },
    {
      "cell_type": "code",
      "source": [
        "import requests\n",
        "\n",
        "# Configuración\n",
        "api_key = \"2af1f7a971a24f518df05998f154b98a\"\n",
        "fuente = \"bbc-news\"  # Código de la fuente\n",
        "url = f\"https://newsapi.org/v2/top-headlines?sources={fuente}&apiKey={api_key}\"\n",
        "\n",
        "# Realizar la solicitud\n",
        "respuesta = requests.get(url)\n",
        "datos = respuesta.json()\n",
        "\n",
        "# Procesar los resultados\n",
        "if datos.get(\"status\") == \"ok\":\n",
        "    print(f\"Noticias de {fuente}:\")\n",
        "    for articulo in datos[\"articles\"][:5]:  # Mostrar los primeros 5 resultados\n",
        "        print(f\"- {articulo['title']}\")\n",
        "        print(f\"  Descripción: {articulo['description']}\")\n",
        "        print(f\"  Link: {articulo['url']}\\n\")\n",
        "else:\n",
        "    print(\"Error al buscar noticias.\")\n"
      ],
      "metadata": {
        "colab": {
          "base_uri": "https://localhost:8080/"
        },
        "id": "dovy4otwJ8-j",
        "outputId": "96bd9873-ff35-4c3f-a3c5-4eb952b8d6bc"
      },
      "execution_count": null,
      "outputs": [
        {
          "output_type": "stream",
          "name": "stdout",
          "text": [
            "Noticias de bbc-news:\n",
            "- Five takeaways from report on Trump's alleged 2020 election interference\n",
            "  Descripción: Trump is accused of inspiring Jan 6 violence but prosecutors thought an  incitement charge would be too risky.\n",
            "  Link: https://www.bbc.co.uk/news/articles/c4gx7r3kyrgo\n",
            "\n",
            "- Kate thanks staff at cancer hospital where she was treated\n",
            "  Descripción: The Princess of Wales has given her personal thanks to staff who helped her at the Royal Marsden Hospital.\n",
            "  Link: https://www.bbc.co.uk/news/articles/cx2m8g2vp41o\n",
            "\n",
            "- Police: Missing sisters hunt in Aberdeen is not a criminal case\n",
            "  Descripción: Eliza and Henrietta Huszti, originally from Hungary, were last seen in the city a week ago.\n",
            "  Link: https://www.bbc.co.uk/news/articles/cd64vzpl865o\n",
            "\n",
            "- What is the pink powder being used to fight fires in California?\n",
            "  Descripción: The bright substance blanketing areas of Los Angeles County has long been used to stop wildfires from spreading.\n",
            "  Link: https://www.bbc.co.uk/news/articles/c93lqng957jo\n",
            "\n",
            "- Sandman author Neil Gaiman faces more sexual assault allegations\n",
            "  Descripción: The Sandman and American Gods author is the subject of a New York Magazine cover story.\n",
            "  Link: https://www.bbc.co.uk/news/articles/cn01dynqx7ro\n",
            "\n"
          ]
        }
      ]
    }
  ],
  "metadata": {
    "colab": {
      "provenance": [],
      "toc_visible": true,
      "include_colab_link": true
    },
    "kernelspec": {
      "display_name": "Python 3",
      "name": "python3"
    }
  },
  "nbformat": 4,
  "nbformat_minor": 0
}
