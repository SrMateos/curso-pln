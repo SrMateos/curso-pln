{
  "cells": [
    {
      "cell_type": "markdown",
      "metadata": {
        "id": "view-in-github",
        "colab_type": "text"
      },
      "source": [
        "<a href=\"https://colab.research.google.com/github/cbadenes/curso-pln/blob/main/notebooks/proyecto_apoyo/02_RecuperacionInformacion.ipynb\" target=\"_parent\"><img src=\"https://colab.research.google.com/assets/colab-badge.svg\" alt=\"Open In Colab\"/></a>"
      ]
    },
    {
      "cell_type": "markdown",
      "source": [
        "#TF-IDF"
      ],
      "metadata": {
        "id": "A5iedDc4g6Qc"
      }
    },
    {
      "cell_type": "code",
      "source": [
        "from sklearn.feature_extraction.text import TfidfVectorizer\n",
        "from sklearn.metrics.pairwise import cosine_similarity\n",
        "\n",
        "# Base de conocimiento\n",
        "data = [\n",
        "    \"Resetear contraseña\", \"Encontrar número de serie\", \"Dispositivo no enciende\"\n",
        "]\n",
        "vectorizer = TfidfVectorizer()\n",
        "vector_matrix = vectorizer.fit_transform(data)\n",
        "\n",
        "# Consulta del usuario\n",
        "query = \"olvidé mi contraseña\"\n",
        "#query = \"olvidé mi clave\"\n",
        "query_vec = vectorizer.transform([query])\n",
        "similarities = cosine_similarity(query_vec, vector_matrix).flatten()\n",
        "\n",
        "# Mostrar resultados\n",
        "ranking = similarities.argsort()[::-1]\n",
        "for idx in ranking:\n",
        "    print(f\"Documento: {data[idx]} | Similitud: {similarities[idx]:.2f}\")\n"
      ],
      "metadata": {
        "colab": {
          "base_uri": "https://localhost:8080/"
        },
        "id": "lehNgFoYhXtb",
        "outputId": "3f1d8d72-7afb-45b0-ab1f-3d01cd68207d"
      },
      "execution_count": 3,
      "outputs": [
        {
          "output_type": "stream",
          "name": "stdout",
          "text": [
            "Documento: Resetear contraseña | Similitud: 0.71\n",
            "Documento: Dispositivo no enciende | Similitud: 0.00\n",
            "Documento: Encontrar número de serie | Similitud: 0.00\n"
          ]
        }
      ]
    },
    {
      "cell_type": "markdown",
      "source": [
        "#Embeddings"
      ],
      "metadata": {
        "id": "Y68fUxPChMlF"
      }
    },
    {
      "cell_type": "code",
      "source": [
        "from sentence_transformers import SentenceTransformer, util\n"
      ],
      "metadata": {
        "id": "M5rV-F0JnigQ"
      },
      "execution_count": null,
      "outputs": []
    },
    {
      "cell_type": "code",
      "execution_count": null,
      "metadata": {
        "colab": {
          "base_uri": "https://localhost:8080/"
        },
        "id": "mOIH9SjNh4Gb",
        "outputId": "10b7dc64-cced-4c8c-8d2a-e448a9217c58"
      },
      "outputs": [
        {
          "output_type": "stream",
          "name": "stdout",
          "text": [
            "Documento: Resetear contraseña | Similitud: 0.55\n",
            "Documento: Dispositivo no enciende | Similitud: 0.32\n",
            "Documento: Encontrar número de serie | Similitud: 0.11\n"
          ]
        }
      ],
      "source": [
        "from sentence_transformers import SentenceTransformer, util\n",
        "\n",
        "# Base de conocimiento\n",
        "data = [\n",
        "    \"Resetear contraseña\", \"Encontrar número de serie\", \"Dispositivo no enciende\"\n",
        "]\n",
        "model = SentenceTransformer(\"paraphrase-multilingual-MiniLM-L12-v2\")\n",
        "data_embeddings = model.encode(data, convert_to_tensor=True)\n",
        "\n",
        "# Consulta del usuario\n",
        "#query = \"olvidé mi contraseña\"\n",
        "query = \"olvidé mi clave\"\n",
        "query_embedding = model.encode(query, convert_to_tensor=True)\n",
        "similarities = util.pytorch_cos_sim(query_embedding, data_embeddings).squeeze()\n",
        "\n",
        "# Mostrar resultados\n",
        "ranking = similarities.argsort(descending=True)\n",
        "for idx in ranking:\n",
        "    print(f\"Documento: {data[idx]} | Similitud: {similarities[idx]:.2f}\")"
      ]
    },
    {
      "cell_type": "markdown",
      "source": [
        "#Ejemplo de comparación temporal"
      ],
      "metadata": {
        "id": "xVDdSmsMsB2e"
      }
    },
    {
      "cell_type": "markdown",
      "source": [
        "##Calculando embeddings"
      ],
      "metadata": {
        "id": "2Qbqh5INFiaw"
      }
    },
    {
      "cell_type": "code",
      "source": [
        "!pip install datasets"
      ],
      "metadata": {
        "id": "7icBh8cHuOKn"
      },
      "execution_count": null,
      "outputs": []
    },
    {
      "cell_type": "code",
      "source": [
        "from datasets import load_dataset\n",
        "import time\n",
        "from sklearn.feature_extraction.text import TfidfVectorizer\n",
        "from sklearn.metrics.pairwise import cosine_similarity\n",
        "from sentence_transformers import SentenceTransformer, util\n",
        "\n",
        "# Cargar un subset del dataset de Wikipedia en español\n",
        "dataset = load_dataset(\"wikimedia/wikipedia\", \"20231101.es\", split=\"train\")\n",
        "data = [item[\"text\"] for item in dataset.select(range(20000)) if isinstance(item[\"text\"], str)]\n",
        "\n",
        "# Consulta del usuario\n",
        "query = \"¿Cuál es la banda más importante de España?\"\n",
        "\n",
        "# **TF-IDF**\n",
        "vectorizer = TfidfVectorizer()\n",
        "start_time_tfidf = time.time()\n",
        "vector_matrix = vectorizer.fit_transform(data)\n",
        "query_vec = vectorizer.transform([query])\n",
        "tfidf_similarities = cosine_similarity(query_vec, vector_matrix).flatten()\n",
        "end_time_tfidf = time.time()\n",
        "\n",
        "# Ordenar resultados TF-IDF\n",
        "ranking_tfidf = tfidf_similarities.argsort()[::-1]\n",
        "top_tfidf = [(data[idx], tfidf_similarities[idx], dataset['title'][idx]) for idx in ranking_tfidf[:5]]\n",
        "\n",
        "# Embeddings\n",
        "model = SentenceTransformer(\"paraphrase-multilingual-MiniLM-L12-v2\")  # Modelo multilingüe para español\n",
        "start_time_embeddings = time.time()\n",
        "data_embeddings = model.encode(data, convert_to_tensor=True)\n",
        "query_embedding = model.encode(query, convert_to_tensor=True)\n",
        "embedding_similarities = util.pytorch_cos_sim(query_embedding, data_embeddings).squeeze().cpu().numpy()\n",
        "end_time_embeddings = time.time()\n",
        "\n",
        "# Ordenar resultados Embeddings\n",
        "ranking_embeddings = embedding_similarities.argsort()[::-1]\n",
        "top_embeddings = [(data[idx], embedding_similarities[idx],dataset['title'][idx]) for idx in ranking_embeddings[:5]]\n",
        "\n",
        "# Mostrar resultados\n",
        "print(\"=== Resultados TF-IDF ===\")\n",
        "print(f\"Tiempo de cálculo: {end_time_tfidf - start_time_tfidf:.4f} segundos\")\n",
        "for idx, (doc, sim, tit) in enumerate(top_tfidf):\n",
        "    print(f\"\\nDocumento {idx+1}:\")\n",
        "    print(f\"Similitud: {sim:.4f}\\n{tit}\\n{doc[:300]}\")\n",
        "\n",
        "print(\"\\n=== Resultados Embeddings ===\")\n",
        "print(f\"Tiempo de cálculo: {end_time_embeddings - start_time_embeddings:.4f} segundos\")\n",
        "for idx, (doc, sim,tit) in enumerate(top_embeddings):\n",
        "    print(f\"\\nDocumento {idx+1}:\")\n",
        "    print(f\"Similitud: {sim:.4f}\\n{tit}\\n{doc[:300]}\")\n",
        "\n"
      ],
      "metadata": {
        "colab": {
          "base_uri": "https://localhost:8080/"
        },
        "id": "k13E-2W4spu5",
        "outputId": "8b459674-07e0-416a-e770-9d88de0549fc"
      },
      "execution_count": null,
      "outputs": [
        {
          "output_type": "stream",
          "name": "stdout",
          "text": [
            "=== Resultados TF-IDF ===\n",
            "Tiempo de cálculo: 46.0444 segundos\n",
            "\n",
            "Documento 1:\n",
            "Similitud: 0.3878\n",
            "Banda\n",
            "Banda\n",
            "\n",
            "Grupo de personas \n",
            " Banda, grupo étnico de la República Centroafricana, que constituye aproximadamente un 40% de la población.\n",
            " Sociedad de bandas, unión de clanes que dejan de ser nómadas y se convierten en sedentarios. \n",
            " Sinónimo de pandilla, grupo de personas.\n",
            "\n",
            "Música \n",
            "\n",
            " Banda de música, e\n",
            "\n",
            "Documento 2:\n",
            "Similitud: 0.3162\n",
            "Banda base\n",
            "En Telecomunicaciones, el término banda base se refiere a la banda de frecuencias producida por un transductor, tal como un micrófono, un manipulador telegráfico u otro dispositivo generador de señales que no es necesario adaptarlo al medio por el que se va a transmitir.\n",
            "\n",
            "Banda base es la señal de u\n",
            "\n",
            "Documento 3:\n",
            "Similitud: 0.2682\n",
            "Banda ancha\n",
            "En telecomunicaciones, se conoce como banda ancha a cualquier tipo de red con elevada capacidad para transportar información que incide en la velocidad de transmisión de esta. Así entonces, es la transmisión de datos simétricos por la cual se envían simultáneamente varias piezas de información, con \n",
            "\n",
            "Documento 4:\n",
            "Similitud: 0.2387\n",
            "Iron Maiden\n",
            "Iron Maiden es una banda británica de heavy metal fundada en 1975 por el bajista Steve Harris. Considerada una de las agrupaciones más importantes y representativas del género, han vendido más de 100 millones de discos en todo el mundo, a pesar de haber contado con poco apoyo de los medios masivos d\n",
            "\n",
            "Documento 5:\n",
            "Similitud: 0.2319\n",
            "Religión en España\n",
            "Para entender la religión en España hay que tener presente una larga historia de la existencia de diferentes credos en el territorio geográfico anterior al actual Estado español, y en lo que luego se constituyó como unidad política, sobre todo después de los Reyes Católicos. También implica analizar\n",
            "\n",
            "=== Resultados Embeddings ===\n",
            "Tiempo de cálculo: 348.5697 segundos\n",
            "\n",
            "Documento 1:\n",
            "Similitud: 0.6191\n",
            "Música clásica de México\n",
            "La música clásica de México se refiere a los estilos musicales que se desarrollaron en el territorio mexicano por la influencia de la música académica europea desde el periodo virreinal hasta el .\n",
            "\n",
            "Virreinato\n",
            "\n",
            "Durante el transcurso de los siglos XVI y XVII emergió en la Nueva España música del mismo\n",
            "\n",
            "Documento 2:\n",
            "Similitud: 0.6142\n",
            "Rock en español\n",
            "El rock en español es la música rock compuesta e interpretada en castellano. Se ha desarrollado de manera heterogénea mayoritariamente en las naciones hispanas y en zonas hispanohablantes de Estados Unidos, muchas veces combinándose con ritmos y características propias de las culturas locales. De es\n",
            "\n",
            "Documento 3:\n",
            "Similitud: 0.5963\n",
            "Jota (música)\n",
            "La jota es una danza y canto tradicional extendida por gran parte de España. Varía su estilo según las regiones, existiendo, por ejemplo, la jota de Aragón, la jota castellana, la jota manchega, la de León, la de Valencia, la jota mallorquina, la de Navarra, la de La Rioja, la «montañesa» de Cantabr\n",
            "\n",
            "Documento 4:\n",
            "Similitud: 0.5890\n",
            "Maná (banda)\n",
            "Maná es una banda de rock y pop latino de origen mexicano fundada en 1986 en Guadalajara, Jalisco. Actualmente la integran Fernando Olvera (guitarra rítmica, armónica y voz líder), Juan Calleros (bajo y contrabajo), Álex González (batería y voz) y Sergio Vallín (guitarra y voz). Ha vendido más de 50\n",
            "\n",
            "Documento 5:\n",
            "Similitud: 0.5833\n",
            "Selección de fútbol de España\n",
            "La selección de fútbol masculina de España es, desde su creación en el año 1920, el equipo de balompié formado por jugadores de nacionalidad española que representa a la Real Federación Española de Fútbol (RFEF) en las competiciones oficiales organizadas por la Unión de Federaciones Europeas de Fútb\n"
          ]
        }
      ]
    },
    {
      "cell_type": "markdown",
      "source": [
        "##Cargando embeddings pre-calculados"
      ],
      "metadata": {
        "id": "mMh0K4-AFYcf"
      }
    },
    {
      "cell_type": "markdown",
      "source": [
        "Ahora guardo los modelos, embeddings y vectores para agilizar el proceso."
      ],
      "metadata": {
        "id": "7e91D60I346z"
      }
    },
    {
      "cell_type": "code",
      "source": [
        "#Guardo los embeddings y vectores ya generados anteriormente\n",
        "import pickle\n",
        "\n",
        "with open('data_embeddings.pkl', 'wb') as f:\n",
        "    pickle.dump(data_embeddings, f)\n",
        "\n",
        "with open('vector_matrix.pkl', 'wb') as f:\n",
        "    pickle.dump(vector_matrix, f)\n",
        "\n",
        "with open('vectorizer.pkl', 'wb') as f:\n",
        "    pickle.dump(vectorizer, f)\n",
        "\n",
        "#guardo el modelo\n",
        "model.save('model')\n"
      ],
      "metadata": {
        "id": "-vloBLag2dPG"
      },
      "execution_count": null,
      "outputs": []
    },
    {
      "cell_type": "code",
      "source": [
        "#Guardo los datos (data y dataset)\n",
        "import pickle\n",
        "\n",
        "with open('data.pkl', 'wb') as f:\n",
        "    pickle.dump(data, f)\n",
        "\n",
        "with open('dataset.pkl', 'wb') as f:\n",
        "    pickle.dump(dataset, f)"
      ],
      "metadata": {
        "id": "O4mM-VmP4V-K"
      },
      "execution_count": null,
      "outputs": []
    },
    {
      "cell_type": "code",
      "source": [
        "from datasets import load_dataset\n",
        "import time\n",
        "from sklearn.feature_extraction.text import TfidfVectorizer\n",
        "from sklearn.metrics.pairwise import cosine_similarity\n",
        "from sentence_transformers import SentenceTransformer, util\n",
        "\n",
        "# Cargar los datos\n",
        "with open('data.pkl', 'rb') as f:\n",
        "    data = pickle.load(f)\n",
        "with open('dataset.pkl', 'rb') as f:\n",
        "    dataset = pickle.load(f)\n",
        "\n",
        "# Consulta del usuario\n",
        "query = \"¿Cuál es la banda más importante de España?\"\n",
        "\n",
        "# **TF-IDF**\n",
        "# Cargo vectorizador y vectores\n",
        "with open('vectorizer.pkl', 'rb') as f:\n",
        "    vectorizer = pickle.load(f)\n",
        "start_time_tfidf = time.time()\n",
        "with open('vector_matrix.pkl', 'rb') as f:\n",
        "    vector_matrix = pickle.load(f)\n",
        "query_vec = vectorizer.transform([query])\n",
        "tfidf_similarities = cosine_similarity(query_vec, vector_matrix).flatten()\n",
        "end_time_tfidf = time.time()\n",
        "\n",
        "# Ordenar resultados TF-IDF\n",
        "ranking_tfidf = tfidf_similarities.argsort()[::-1]\n",
        "top_tfidf = [(data[idx], tfidf_similarities[idx], dataset['title'][idx]) for idx in ranking_tfidf[:5]]\n",
        "\n",
        "# **Embeddings**\n",
        "#cargo modelo y embeddings\n",
        "model = SentenceTransformer('model')\n",
        "start_time_embeddings = time.time()\n",
        "with open('data_embeddings.pkl', 'rb') as f:\n",
        "    data_embeddings = pickle.load(f)\n",
        "query_embedding = model.encode(query, convert_to_tensor=True)\n",
        "embedding_similarities = util.pytorch_cos_sim(query_embedding, data_embeddings).squeeze().cpu().numpy()\n",
        "end_time_embeddings = time.time()\n",
        "\n",
        "# Ordenar resultados Embeddings\n",
        "ranking_embeddings = embedding_similarities.argsort()[::-1]\n",
        "top_embeddings = [(data[idx], embedding_similarities[idx],dataset['title'][idx]) for idx in ranking_embeddings[:5]]\n",
        "\n",
        "# Mostrar resultados\n",
        "print(\"=== Resultados TF-IDF ===\")\n",
        "print(f\"Tiempo de cálculo: {end_time_tfidf - start_time_tfidf:.4f} segundos\")\n",
        "for idx, (doc, sim, tit) in enumerate(top_tfidf):\n",
        "    print(f\"\\nDocumento {idx+1}:\")\n",
        "    print(f\"Similitud: {sim:.4f}\\n{tit}\\n{doc[:300]}\")\n",
        "\n",
        "print(\"\\n=== Resultados Embeddings ===\")\n",
        "print(f\"Tiempo de cálculo: {end_time_embeddings - start_time_embeddings:.4f} segundos\")\n",
        "for idx, (doc, sim,tit) in enumerate(top_embeddings):\n",
        "    print(f\"\\nDocumento {idx+1}:\")\n",
        "    print(f\"Similitud: {sim:.4f}\\n{tit}\\n{doc[:300]}\")"
      ],
      "metadata": {
        "colab": {
          "base_uri": "https://localhost:8080/"
        },
        "id": "TiZW1hAB2V1K",
        "outputId": "4903cc4f-7e91-40e1-deb7-3013e8f35ce8"
      },
      "execution_count": null,
      "outputs": [
        {
          "output_type": "stream",
          "name": "stdout",
          "text": [
            "=== Resultados TF-IDF ===\n",
            "Tiempo de cálculo: 1.6608 segundos\n",
            "\n",
            "Documento 1:\n",
            "Similitud: 0.3878\n",
            "Banda\n",
            "Banda\n",
            "\n",
            "Grupo de personas \n",
            " Banda, grupo étnico de la República Centroafricana, que constituye aproximadamente un 40% de la población.\n",
            " Sociedad de bandas, unión de clanes que dejan de ser nómadas y se convierten en sedentarios. \n",
            " Sinónimo de pandilla, grupo de personas.\n",
            "\n",
            "Música \n",
            "\n",
            " Banda de música, e\n",
            "\n",
            "Documento 2:\n",
            "Similitud: 0.3162\n",
            "Banda base\n",
            "En Telecomunicaciones, el término banda base se refiere a la banda de frecuencias producida por un transductor, tal como un micrófono, un manipulador telegráfico u otro dispositivo generador de señales que no es necesario adaptarlo al medio por el que se va a transmitir.\n",
            "\n",
            "Banda base es la señal de u\n",
            "\n",
            "Documento 3:\n",
            "Similitud: 0.2682\n",
            "Banda ancha\n",
            "En telecomunicaciones, se conoce como banda ancha a cualquier tipo de red con elevada capacidad para transportar información que incide en la velocidad de transmisión de esta. Así entonces, es la transmisión de datos simétricos por la cual se envían simultáneamente varias piezas de información, con \n",
            "\n",
            "Documento 4:\n",
            "Similitud: 0.2387\n",
            "Iron Maiden\n",
            "Iron Maiden es una banda británica de heavy metal fundada en 1975 por el bajista Steve Harris. Considerada una de las agrupaciones más importantes y representativas del género, han vendido más de 100 millones de discos en todo el mundo, a pesar de haber contado con poco apoyo de los medios masivos d\n",
            "\n",
            "Documento 5:\n",
            "Similitud: 0.2319\n",
            "Religión en España\n",
            "Para entender la religión en España hay que tener presente una larga historia de la existencia de diferentes credos en el territorio geográfico anterior al actual Estado español, y en lo que luego se constituyó como unidad política, sobre todo después de los Reyes Católicos. También implica analizar\n",
            "\n",
            "=== Resultados Embeddings ===\n",
            "Tiempo de cálculo: 0.2503 segundos\n",
            "\n",
            "Documento 1:\n",
            "Similitud: 0.6191\n",
            "Música clásica de México\n",
            "La música clásica de México se refiere a los estilos musicales que se desarrollaron en el territorio mexicano por la influencia de la música académica europea desde el periodo virreinal hasta el .\n",
            "\n",
            "Virreinato\n",
            "\n",
            "Durante el transcurso de los siglos XVI y XVII emergió en la Nueva España música del mismo\n",
            "\n",
            "Documento 2:\n",
            "Similitud: 0.6142\n",
            "Rock en español\n",
            "El rock en español es la música rock compuesta e interpretada en castellano. Se ha desarrollado de manera heterogénea mayoritariamente en las naciones hispanas y en zonas hispanohablantes de Estados Unidos, muchas veces combinándose con ritmos y características propias de las culturas locales. De es\n",
            "\n",
            "Documento 3:\n",
            "Similitud: 0.5963\n",
            "Jota (música)\n",
            "La jota es una danza y canto tradicional extendida por gran parte de España. Varía su estilo según las regiones, existiendo, por ejemplo, la jota de Aragón, la jota castellana, la jota manchega, la de León, la de Valencia, la jota mallorquina, la de Navarra, la de La Rioja, la «montañesa» de Cantabr\n",
            "\n",
            "Documento 4:\n",
            "Similitud: 0.5890\n",
            "Maná (banda)\n",
            "Maná es una banda de rock y pop latino de origen mexicano fundada en 1986 en Guadalajara, Jalisco. Actualmente la integran Fernando Olvera (guitarra rítmica, armónica y voz líder), Juan Calleros (bajo y contrabajo), Álex González (batería y voz) y Sergio Vallín (guitarra y voz). Ha vendido más de 50\n",
            "\n",
            "Documento 5:\n",
            "Similitud: 0.5833\n",
            "Selección de fútbol de España\n",
            "La selección de fútbol masculina de España es, desde su creación en el año 1920, el equipo de balompié formado por jugadores de nacionalidad española que representa a la Real Federación Española de Fútbol (RFEF) en las competiciones oficiales organizadas por la Unión de Federaciones Europeas de Fútb\n"
          ]
        }
      ]
    }
  ],
  "metadata": {
    "accelerator": "GPU",
    "colab": {
      "gpuType": "T4",
      "provenance": [],
      "toc_visible": true,
      "authorship_tag": "ABX9TyPntouIZ/Y12Jb0zEGmtNoe",
      "include_colab_link": true
    },
    "kernelspec": {
      "display_name": "Python 3",
      "name": "python3"
    },
    "language_info": {
      "name": "python"
    }
  },
  "nbformat": 4,
  "nbformat_minor": 0
}